{
 "cells": [
  {
   "cell_type": "code",
   "execution_count": 2,
   "metadata": {},
   "outputs": [],
   "source": [
    "# email id - mahaveer.iitkgp@gmail.com\n",
    "# mobile no. - +91 6377371776"
   ]
  },
  {
   "cell_type": "code",
   "execution_count": 1,
   "metadata": {},
   "outputs": [],
   "source": [
    "import numpy as np\n",
    "import pandas as pd\n",
    "import matplotlib.pyplot as plt\n",
    "%matplotlib inline\n",
    "import seaborn as sns"
   ]
  },
  {
   "cell_type": "code",
   "execution_count": 3,
   "metadata": {},
   "outputs": [],
   "source": [
    "df= pd.read_csv('Dataset Data Divination.csv')"
   ]
  },
  {
   "cell_type": "code",
   "execution_count": 4,
   "metadata": {},
   "outputs": [
    {
     "data": {
      "text/html": [
       "<div>\n",
       "<style scoped>\n",
       "    .dataframe tbody tr th:only-of-type {\n",
       "        vertical-align: middle;\n",
       "    }\n",
       "\n",
       "    .dataframe tbody tr th {\n",
       "        vertical-align: top;\n",
       "    }\n",
       "\n",
       "    .dataframe thead th {\n",
       "        text-align: right;\n",
       "    }\n",
       "</style>\n",
       "<table border=\"1\" class=\"dataframe\">\n",
       "  <thead>\n",
       "    <tr style=\"text-align: right;\">\n",
       "      <th></th>\n",
       "      <th>Unnamed: 0</th>\n",
       "      <th>Service_provider</th>\n",
       "      <th>technology</th>\n",
       "      <th>Download_Upload</th>\n",
       "      <th>Data_Speed(Kbps)</th>\n",
       "      <th>signal_strength</th>\n",
       "      <th>Service_Area</th>\n",
       "    </tr>\n",
       "  </thead>\n",
       "  <tbody>\n",
       "    <tr>\n",
       "      <th>0</th>\n",
       "      <td>0</td>\n",
       "      <td>AIRTEL</td>\n",
       "      <td>4G</td>\n",
       "      <td>download</td>\n",
       "      <td>4794</td>\n",
       "      <td>-53.0</td>\n",
       "      <td>UP East</td>\n",
       "    </tr>\n",
       "    <tr>\n",
       "      <th>1</th>\n",
       "      <td>1</td>\n",
       "      <td>AIRTEL</td>\n",
       "      <td>4G</td>\n",
       "      <td>upload</td>\n",
       "      <td>536</td>\n",
       "      <td>-59.0</td>\n",
       "      <td>UP East</td>\n",
       "    </tr>\n",
       "    <tr>\n",
       "      <th>2</th>\n",
       "      <td>2</td>\n",
       "      <td>JIO</td>\n",
       "      <td>4G</td>\n",
       "      <td>download</td>\n",
       "      <td>38507</td>\n",
       "      <td>-59.0</td>\n",
       "      <td>UP West</td>\n",
       "    </tr>\n",
       "    <tr>\n",
       "      <th>3</th>\n",
       "      <td>3</td>\n",
       "      <td>JIO</td>\n",
       "      <td>4G</td>\n",
       "      <td>download</td>\n",
       "      <td>78938</td>\n",
       "      <td>-59.0</td>\n",
       "      <td>UP West</td>\n",
       "    </tr>\n",
       "    <tr>\n",
       "      <th>4</th>\n",
       "      <td>4</td>\n",
       "      <td>JIO</td>\n",
       "      <td>4G</td>\n",
       "      <td>upload</td>\n",
       "      <td>3560</td>\n",
       "      <td>-59.0</td>\n",
       "      <td>UP West</td>\n",
       "    </tr>\n",
       "  </tbody>\n",
       "</table>\n",
       "</div>"
      ],
      "text/plain": [
       "   Unnamed: 0 Service_provider technology Download_Upload  Data_Speed(Kbps)  \\\n",
       "0           0           AIRTEL         4G        download              4794   \n",
       "1           1           AIRTEL         4G          upload               536   \n",
       "2           2              JIO         4G        download             38507   \n",
       "3           3              JIO         4G        download             78938   \n",
       "4           4              JIO         4G          upload              3560   \n",
       "\n",
       "   signal_strength Service_Area  \n",
       "0            -53.0      UP East  \n",
       "1            -59.0      UP East  \n",
       "2            -59.0      UP West  \n",
       "3            -59.0      UP West  \n",
       "4            -59.0      UP West  "
      ]
     },
     "execution_count": 4,
     "metadata": {},
     "output_type": "execute_result"
    }
   ],
   "source": [
    "df.head()"
   ]
  },
  {
   "cell_type": "code",
   "execution_count": 5,
   "metadata": {},
   "outputs": [],
   "source": [
    "df= df.drop(['Unnamed: 0'], axis =1)"
   ]
  },
  {
   "cell_type": "code",
   "execution_count": 6,
   "metadata": {},
   "outputs": [
    {
     "data": {
      "text/html": [
       "<div>\n",
       "<style scoped>\n",
       "    .dataframe tbody tr th:only-of-type {\n",
       "        vertical-align: middle;\n",
       "    }\n",
       "\n",
       "    .dataframe tbody tr th {\n",
       "        vertical-align: top;\n",
       "    }\n",
       "\n",
       "    .dataframe thead th {\n",
       "        text-align: right;\n",
       "    }\n",
       "</style>\n",
       "<table border=\"1\" class=\"dataframe\">\n",
       "  <thead>\n",
       "    <tr style=\"text-align: right;\">\n",
       "      <th></th>\n",
       "      <th>Service_provider</th>\n",
       "      <th>technology</th>\n",
       "      <th>Download_Upload</th>\n",
       "      <th>Data_Speed(Kbps)</th>\n",
       "      <th>signal_strength</th>\n",
       "      <th>Service_Area</th>\n",
       "    </tr>\n",
       "  </thead>\n",
       "  <tbody>\n",
       "    <tr>\n",
       "      <th>0</th>\n",
       "      <td>AIRTEL</td>\n",
       "      <td>4G</td>\n",
       "      <td>download</td>\n",
       "      <td>4794</td>\n",
       "      <td>-53.0</td>\n",
       "      <td>UP East</td>\n",
       "    </tr>\n",
       "    <tr>\n",
       "      <th>1</th>\n",
       "      <td>AIRTEL</td>\n",
       "      <td>4G</td>\n",
       "      <td>upload</td>\n",
       "      <td>536</td>\n",
       "      <td>-59.0</td>\n",
       "      <td>UP East</td>\n",
       "    </tr>\n",
       "    <tr>\n",
       "      <th>2</th>\n",
       "      <td>JIO</td>\n",
       "      <td>4G</td>\n",
       "      <td>download</td>\n",
       "      <td>38507</td>\n",
       "      <td>-59.0</td>\n",
       "      <td>UP West</td>\n",
       "    </tr>\n",
       "    <tr>\n",
       "      <th>3</th>\n",
       "      <td>JIO</td>\n",
       "      <td>4G</td>\n",
       "      <td>download</td>\n",
       "      <td>78938</td>\n",
       "      <td>-59.0</td>\n",
       "      <td>UP West</td>\n",
       "    </tr>\n",
       "    <tr>\n",
       "      <th>4</th>\n",
       "      <td>JIO</td>\n",
       "      <td>4G</td>\n",
       "      <td>upload</td>\n",
       "      <td>3560</td>\n",
       "      <td>-59.0</td>\n",
       "      <td>UP West</td>\n",
       "    </tr>\n",
       "  </tbody>\n",
       "</table>\n",
       "</div>"
      ],
      "text/plain": [
       "  Service_provider technology Download_Upload  Data_Speed(Kbps)  \\\n",
       "0           AIRTEL         4G        download              4794   \n",
       "1           AIRTEL         4G          upload               536   \n",
       "2              JIO         4G        download             38507   \n",
       "3              JIO         4G        download             78938   \n",
       "4              JIO         4G          upload              3560   \n",
       "\n",
       "   signal_strength Service_Area  \n",
       "0            -53.0      UP East  \n",
       "1            -59.0      UP East  \n",
       "2            -59.0      UP West  \n",
       "3            -59.0      UP West  \n",
       "4            -59.0      UP West  "
      ]
     },
     "execution_count": 6,
     "metadata": {},
     "output_type": "execute_result"
    }
   ],
   "source": [
    "df.head()"
   ]
  },
  {
   "cell_type": "code",
   "execution_count": 7,
   "metadata": {},
   "outputs": [],
   "source": [
    "df['Service_provider'] = df['Service_provider'].replace({'AIRTEL':0,'JIO':1 , 'CELLONE':2, 'VODAFONE':3 , 'IDEA':4})"
   ]
  },
  {
   "cell_type": "code",
   "execution_count": 8,
   "metadata": {},
   "outputs": [],
   "source": [
    "df['Download_Upload'] = df['Download_Upload'].replace({'download':0, 'upload':1})"
   ]
  },
  {
   "cell_type": "code",
   "execution_count": 10,
   "metadata": {},
   "outputs": [
    {
     "data": {
      "text/html": [
       "<div>\n",
       "<style scoped>\n",
       "    .dataframe tbody tr th:only-of-type {\n",
       "        vertical-align: middle;\n",
       "    }\n",
       "\n",
       "    .dataframe tbody tr th {\n",
       "        vertical-align: top;\n",
       "    }\n",
       "\n",
       "    .dataframe thead th {\n",
       "        text-align: right;\n",
       "    }\n",
       "</style>\n",
       "<table border=\"1\" class=\"dataframe\">\n",
       "  <thead>\n",
       "    <tr style=\"text-align: right;\">\n",
       "      <th></th>\n",
       "      <th>Service_provider</th>\n",
       "      <th>technology</th>\n",
       "      <th>Download_Upload</th>\n",
       "      <th>Data_Speed(Kbps)</th>\n",
       "      <th>signal_strength</th>\n",
       "      <th>Service_Area</th>\n",
       "    </tr>\n",
       "  </thead>\n",
       "  <tbody>\n",
       "    <tr>\n",
       "      <th>0</th>\n",
       "      <td>0</td>\n",
       "      <td>4G</td>\n",
       "      <td>0</td>\n",
       "      <td>4794</td>\n",
       "      <td>-53.0</td>\n",
       "      <td>UP East</td>\n",
       "    </tr>\n",
       "    <tr>\n",
       "      <th>1</th>\n",
       "      <td>0</td>\n",
       "      <td>4G</td>\n",
       "      <td>1</td>\n",
       "      <td>536</td>\n",
       "      <td>-59.0</td>\n",
       "      <td>UP East</td>\n",
       "    </tr>\n",
       "    <tr>\n",
       "      <th>2</th>\n",
       "      <td>1</td>\n",
       "      <td>4G</td>\n",
       "      <td>0</td>\n",
       "      <td>38507</td>\n",
       "      <td>-59.0</td>\n",
       "      <td>UP West</td>\n",
       "    </tr>\n",
       "    <tr>\n",
       "      <th>3</th>\n",
       "      <td>1</td>\n",
       "      <td>4G</td>\n",
       "      <td>0</td>\n",
       "      <td>78938</td>\n",
       "      <td>-59.0</td>\n",
       "      <td>UP West</td>\n",
       "    </tr>\n",
       "    <tr>\n",
       "      <th>4</th>\n",
       "      <td>1</td>\n",
       "      <td>4G</td>\n",
       "      <td>1</td>\n",
       "      <td>3560</td>\n",
       "      <td>-59.0</td>\n",
       "      <td>UP West</td>\n",
       "    </tr>\n",
       "  </tbody>\n",
       "</table>\n",
       "</div>"
      ],
      "text/plain": [
       "   Service_provider technology  Download_Upload  Data_Speed(Kbps)  \\\n",
       "0                 0         4G                0              4794   \n",
       "1                 0         4G                1               536   \n",
       "2                 1         4G                0             38507   \n",
       "3                 1         4G                0             78938   \n",
       "4                 1         4G                1              3560   \n",
       "\n",
       "   signal_strength Service_Area  \n",
       "0            -53.0      UP East  \n",
       "1            -59.0      UP East  \n",
       "2            -59.0      UP West  \n",
       "3            -59.0      UP West  \n",
       "4            -59.0      UP West  "
      ]
     },
     "execution_count": 10,
     "metadata": {},
     "output_type": "execute_result"
    }
   ],
   "source": [
    "df.head()"
   ]
  },
  {
   "cell_type": "code",
   "execution_count": 11,
   "metadata": {},
   "outputs": [
    {
     "data": {
      "text/plain": [
       "Service_provider      0\n",
       "technology            0\n",
       "Download_Upload       0\n",
       "Data_Speed(Kbps)      0\n",
       "signal_strength     548\n",
       "Service_Area          0\n",
       "dtype: int64"
      ]
     },
     "execution_count": 11,
     "metadata": {},
     "output_type": "execute_result"
    }
   ],
   "source": [
    "df.isnull().sum()"
   ]
  },
  {
   "cell_type": "code",
   "execution_count": 12,
   "metadata": {},
   "outputs": [],
   "source": [
    "df['signal_strength'] = df['signal_strength'].fillna(df['signal_strength'].median())"
   ]
  },
  {
   "cell_type": "code",
   "execution_count": 13,
   "metadata": {},
   "outputs": [
    {
     "data": {
      "text/plain": [
       "<AxesSubplot:>"
      ]
     },
     "execution_count": 13,
     "metadata": {},
     "output_type": "execute_result"
    },
    {
     "data": {
      "image/png": "[encoded data removed]",
      "text/plain": [
       "<Figure size 432x288 with 2 Axes>"
      ]
     },
     "metadata": {
      "needs_background": "light"
     },
     "output_type": "display_data"
    }
   ],
   "source": [
    "sns.heatmap(df.isnull())"
   ]
  },
  {
   "cell_type": "code",
   "execution_count": 14,
   "metadata": {},
   "outputs": [
    {
     "name": "stdout",
     "output_type": "stream",
     "text": [
      "<class 'pandas.core.frame.DataFrame'>\n",
      "RangeIndex: 4000 entries, 0 to 3999\n",
      "Data columns (total 6 columns):\n",
      " #   Column            Non-Null Count  Dtype  \n",
      "---  ------            --------------  -----  \n",
      " 0   Service_provider  4000 non-null   int64  \n",
      " 1   technology        4000 non-null   object \n",
      " 2   Download_Upload   4000 non-null   int64  \n",
      " 3   Data_Speed(Kbps)  4000 non-null   int64  \n",
      " 4   signal_strength   4000 non-null   float64\n",
      " 5   Service_Area      4000 non-null   object \n",
      "dtypes: float64(1), int64(3), object(2)\n",
      "memory usage: 187.6+ KB\n"
     ]
    }
   ],
   "source": [
    "df.info()"
   ]
  },
  {
   "cell_type": "code",
   "execution_count": 15,
   "metadata": {},
   "outputs": [
    {
     "data": {
      "text/html": [
       "<div>\n",
       "<style scoped>\n",
       "    .dataframe tbody tr th:only-of-type {\n",
       "        vertical-align: middle;\n",
       "    }\n",
       "\n",
       "    .dataframe tbody tr th {\n",
       "        vertical-align: top;\n",
       "    }\n",
       "\n",
       "    .dataframe thead th {\n",
       "        text-align: right;\n",
       "    }\n",
       "</style>\n",
       "<table border=\"1\" class=\"dataframe\">\n",
       "  <thead>\n",
       "    <tr style=\"text-align: right;\">\n",
       "      <th></th>\n",
       "      <th>Service_provider</th>\n",
       "      <th>Download_Upload</th>\n",
       "      <th>Data_Speed(Kbps)</th>\n",
       "      <th>signal_strength</th>\n",
       "    </tr>\n",
       "  </thead>\n",
       "  <tbody>\n",
       "    <tr>\n",
       "      <th>count</th>\n",
       "      <td>4000.000000</td>\n",
       "      <td>4000.000000</td>\n",
       "      <td>4000.000000</td>\n",
       "      <td>4000.000000</td>\n",
       "    </tr>\n",
       "    <tr>\n",
       "      <th>mean</th>\n",
       "      <td>1.540000</td>\n",
       "      <td>0.493250</td>\n",
       "      <td>8315.810000</td>\n",
       "      <td>-82.037750</td>\n",
       "    </tr>\n",
       "    <tr>\n",
       "      <th>std</th>\n",
       "      <td>1.221791</td>\n",
       "      <td>0.500017</td>\n",
       "      <td>15561.302023</td>\n",
       "      <td>16.887603</td>\n",
       "    </tr>\n",
       "    <tr>\n",
       "      <th>min</th>\n",
       "      <td>0.000000</td>\n",
       "      <td>0.000000</td>\n",
       "      <td>0.000000</td>\n",
       "      <td>-112.000000</td>\n",
       "    </tr>\n",
       "    <tr>\n",
       "      <th>25%</th>\n",
       "      <td>1.000000</td>\n",
       "      <td>0.000000</td>\n",
       "      <td>772.750000</td>\n",
       "      <td>-97.000000</td>\n",
       "    </tr>\n",
       "    <tr>\n",
       "      <th>50%</th>\n",
       "      <td>1.000000</td>\n",
       "      <td>0.000000</td>\n",
       "      <td>2749.500000</td>\n",
       "      <td>-81.000000</td>\n",
       "    </tr>\n",
       "    <tr>\n",
       "      <th>75%</th>\n",
       "      <td>3.000000</td>\n",
       "      <td>1.000000</td>\n",
       "      <td>7968.250000</td>\n",
       "      <td>-69.000000</td>\n",
       "    </tr>\n",
       "    <tr>\n",
       "      <th>max</th>\n",
       "      <td>4.000000</td>\n",
       "      <td>1.000000</td>\n",
       "      <td>80755.000000</td>\n",
       "      <td>-51.000000</td>\n",
       "    </tr>\n",
       "  </tbody>\n",
       "</table>\n",
       "</div>"
      ],
      "text/plain": [
       "       Service_provider  Download_Upload  Data_Speed(Kbps)  signal_strength\n",
       "count       4000.000000      4000.000000       4000.000000      4000.000000\n",
       "mean           1.540000         0.493250       8315.810000       -82.037750\n",
       "std            1.221791         0.500017      15561.302023        16.887603\n",
       "min            0.000000         0.000000          0.000000      -112.000000\n",
       "25%            1.000000         0.000000        772.750000       -97.000000\n",
       "50%            1.000000         0.000000       2749.500000       -81.000000\n",
       "75%            3.000000         1.000000       7968.250000       -69.000000\n",
       "max            4.000000         1.000000      80755.000000       -51.000000"
      ]
     },
     "execution_count": 15,
     "metadata": {},
     "output_type": "execute_result"
    }
   ],
   "source": [
    "df.describe()"
   ]
  },
  {
   "cell_type": "code",
   "execution_count": 16,
   "metadata": {},
   "outputs": [
    {
     "data": {
      "text/plain": [
       "array(['4G', '3G'], dtype=object)"
      ]
     },
     "execution_count": 16,
     "metadata": {},
     "output_type": "execute_result"
    }
   ],
   "source": [
    "df.technology.unique()"
   ]
  },
  {
   "cell_type": "code",
   "execution_count": 17,
   "metadata": {},
   "outputs": [
    {
     "data": {
      "text/plain": [
       "array(['UP East', 'UP West', 'Rajasthan', 'Gujarat', 'Andhra Pradesh',\n",
       "       'Tamil Nadu', 'Kerala', 'Karnataka', 'Kolkata', 'Bihar', 'Mumbai',\n",
       "       'Orissa', 'Delhi', 'Assam', 'West Bengal', 'Madhya Pradesh',\n",
       "       'Chennai', 'Maharashtra', 'Himachal Pradesh', 'Haryana',\n",
       "       'North East', 'Punjab', 'Jammu & Kashmir'], dtype=object)"
      ]
     },
     "execution_count": 17,
     "metadata": {},
     "output_type": "execute_result"
    }
   ],
   "source": [
    "df.Service_Area.unique()"
   ]
  },
  {
   "cell_type": "code",
   "execution_count": 18,
   "metadata": {},
   "outputs": [
    {
     "data": {
      "text/html": [
       "<div>\n",
       "<style scoped>\n",
       "    .dataframe tbody tr th:only-of-type {\n",
       "        vertical-align: middle;\n",
       "    }\n",
       "\n",
       "    .dataframe tbody tr th {\n",
       "        vertical-align: top;\n",
       "    }\n",
       "\n",
       "    .dataframe thead th {\n",
       "        text-align: right;\n",
       "    }\n",
       "</style>\n",
       "<table border=\"1\" class=\"dataframe\">\n",
       "  <thead>\n",
       "    <tr style=\"text-align: right;\">\n",
       "      <th></th>\n",
       "      <th>Service_provider</th>\n",
       "      <th>technology</th>\n",
       "      <th>Download_Upload</th>\n",
       "      <th>Data_Speed(Kbps)</th>\n",
       "      <th>signal_strength</th>\n",
       "      <th>Service_Area</th>\n",
       "    </tr>\n",
       "  </thead>\n",
       "  <tbody>\n",
       "    <tr>\n",
       "      <th>0</th>\n",
       "      <td>0</td>\n",
       "      <td>4G</td>\n",
       "      <td>0</td>\n",
       "      <td>4794</td>\n",
       "      <td>-53.0</td>\n",
       "      <td>UP East</td>\n",
       "    </tr>\n",
       "    <tr>\n",
       "      <th>1</th>\n",
       "      <td>0</td>\n",
       "      <td>4G</td>\n",
       "      <td>1</td>\n",
       "      <td>536</td>\n",
       "      <td>-59.0</td>\n",
       "      <td>UP East</td>\n",
       "    </tr>\n",
       "    <tr>\n",
       "      <th>2</th>\n",
       "      <td>1</td>\n",
       "      <td>4G</td>\n",
       "      <td>0</td>\n",
       "      <td>38507</td>\n",
       "      <td>-59.0</td>\n",
       "      <td>UP West</td>\n",
       "    </tr>\n",
       "    <tr>\n",
       "      <th>3</th>\n",
       "      <td>1</td>\n",
       "      <td>4G</td>\n",
       "      <td>0</td>\n",
       "      <td>78938</td>\n",
       "      <td>-59.0</td>\n",
       "      <td>UP West</td>\n",
       "    </tr>\n",
       "    <tr>\n",
       "      <th>4</th>\n",
       "      <td>1</td>\n",
       "      <td>4G</td>\n",
       "      <td>1</td>\n",
       "      <td>3560</td>\n",
       "      <td>-59.0</td>\n",
       "      <td>UP West</td>\n",
       "    </tr>\n",
       "  </tbody>\n",
       "</table>\n",
       "</div>"
      ],
      "text/plain": [
       "   Service_provider technology  Download_Upload  Data_Speed(Kbps)  \\\n",
       "0                 0         4G                0              4794   \n",
       "1                 0         4G                1               536   \n",
       "2                 1         4G                0             38507   \n",
       "3                 1         4G                0             78938   \n",
       "4                 1         4G                1              3560   \n",
       "\n",
       "   signal_strength Service_Area  \n",
       "0            -53.0      UP East  \n",
       "1            -59.0      UP East  \n",
       "2            -59.0      UP West  \n",
       "3            -59.0      UP West  \n",
       "4            -59.0      UP West  "
      ]
     },
     "execution_count": 18,
     "metadata": {},
     "output_type": "execute_result"
    }
   ],
   "source": [
    "df.head()"
   ]
  },
  {
   "cell_type": "markdown",
   "metadata": {},
   "source": [
    "-----------------------------------------------------------------------------------------------------------"
   ]
  },
  {
   "cell_type": "markdown",
   "metadata": {},
   "source": [
    "Q 1 :- Calculate the mean Data_Speed of the records having Service_provider 0 or 2."
   ]
  },
  {
   "cell_type": "code",
   "execution_count": 21,
   "metadata": {},
   "outputs": [],
   "source": [
    "data1 = df.loc[(df['Service_provider']== 0) | (df['Service_provider']==2)]"
   ]
  },
  {
   "cell_type": "code",
   "execution_count": 22,
   "metadata": {},
   "outputs": [
    {
     "data": {
      "text/html": [
       "<div>\n",
       "<style scoped>\n",
       "    .dataframe tbody tr th:only-of-type {\n",
       "        vertical-align: middle;\n",
       "    }\n",
       "\n",
       "    .dataframe tbody tr th {\n",
       "        vertical-align: top;\n",
       "    }\n",
       "\n",
       "    .dataframe thead th {\n",
       "        text-align: right;\n",
       "    }\n",
       "</style>\n",
       "<table border=\"1\" class=\"dataframe\">\n",
       "  <thead>\n",
       "    <tr style=\"text-align: right;\">\n",
       "      <th></th>\n",
       "      <th>Service_provider</th>\n",
       "      <th>technology</th>\n",
       "      <th>Download_Upload</th>\n",
       "      <th>Data_Speed(Kbps)</th>\n",
       "      <th>signal_strength</th>\n",
       "      <th>Service_Area</th>\n",
       "    </tr>\n",
       "  </thead>\n",
       "  <tbody>\n",
       "    <tr>\n",
       "      <th>0</th>\n",
       "      <td>0</td>\n",
       "      <td>4G</td>\n",
       "      <td>0</td>\n",
       "      <td>4794</td>\n",
       "      <td>-53.0</td>\n",
       "      <td>UP East</td>\n",
       "    </tr>\n",
       "    <tr>\n",
       "      <th>1</th>\n",
       "      <td>0</td>\n",
       "      <td>4G</td>\n",
       "      <td>1</td>\n",
       "      <td>536</td>\n",
       "      <td>-59.0</td>\n",
       "      <td>UP East</td>\n",
       "    </tr>\n",
       "    <tr>\n",
       "      <th>36</th>\n",
       "      <td>2</td>\n",
       "      <td>3G</td>\n",
       "      <td>0</td>\n",
       "      <td>608</td>\n",
       "      <td>-81.0</td>\n",
       "      <td>Tamil Nadu</td>\n",
       "    </tr>\n",
       "    <tr>\n",
       "      <th>37</th>\n",
       "      <td>2</td>\n",
       "      <td>3G</td>\n",
       "      <td>1</td>\n",
       "      <td>499</td>\n",
       "      <td>-81.0</td>\n",
       "      <td>Tamil Nadu</td>\n",
       "    </tr>\n",
       "    <tr>\n",
       "      <th>38</th>\n",
       "      <td>2</td>\n",
       "      <td>4G</td>\n",
       "      <td>0</td>\n",
       "      <td>2911</td>\n",
       "      <td>-107.0</td>\n",
       "      <td>Kerala</td>\n",
       "    </tr>\n",
       "  </tbody>\n",
       "</table>\n",
       "</div>"
      ],
      "text/plain": [
       "    Service_provider technology  Download_Upload  Data_Speed(Kbps)  \\\n",
       "0                  0         4G                0              4794   \n",
       "1                  0         4G                1               536   \n",
       "36                 2         3G                0               608   \n",
       "37                 2         3G                1               499   \n",
       "38                 2         4G                0              2911   \n",
       "\n",
       "    signal_strength Service_Area  \n",
       "0             -53.0      UP East  \n",
       "1             -59.0      UP East  \n",
       "36            -81.0   Tamil Nadu  \n",
       "37            -81.0   Tamil Nadu  \n",
       "38           -107.0       Kerala  "
      ]
     },
     "execution_count": 22,
     "metadata": {},
     "output_type": "execute_result"
    }
   ],
   "source": [
    "data1.head()"
   ]
  },
  {
   "cell_type": "code",
   "execution_count": 23,
   "metadata": {},
   "outputs": [
    {
     "name": "stdout",
     "output_type": "stream",
     "text": [
      "<class 'pandas.core.frame.DataFrame'>\n",
      "Int64Index: 874 entries, 0 to 3993\n",
      "Data columns (total 6 columns):\n",
      " #   Column            Non-Null Count  Dtype  \n",
      "---  ------            --------------  -----  \n",
      " 0   Service_provider  874 non-null    int64  \n",
      " 1   technology        874 non-null    object \n",
      " 2   Download_Upload   874 non-null    int64  \n",
      " 3   Data_Speed(Kbps)  874 non-null    int64  \n",
      " 4   signal_strength   874 non-null    float64\n",
      " 5   Service_Area      874 non-null    object \n",
      "dtypes: float64(1), int64(3), object(2)\n",
      "memory usage: 47.8+ KB\n"
     ]
    }
   ],
   "source": [
    "data1.info()"
   ]
  },
  {
   "cell_type": "code",
   "execution_count": 24,
   "metadata": {},
   "outputs": [
    {
     "data": {
      "text/plain": [
       "5096.66704805492"
      ]
     },
     "execution_count": 24,
     "metadata": {},
     "output_type": "execute_result"
    }
   ],
   "source": [
    "data1['Data_Speed(Kbps)'].mean()"
   ]
  },
  {
   "cell_type": "markdown",
   "metadata": {},
   "source": [
    "##### Mean Data_Speed of the records having Service_provider 0 or 2 ----> 5096.66"
   ]
  },
  {
   "cell_type": "markdown",
   "metadata": {},
   "source": [
    "------------------------------------------------------------------------------------------------------"
   ]
  },
  {
   "cell_type": "markdown",
   "metadata": {},
   "source": [
    "Q 2 :- Count the number of records having signal_strength less than -78"
   ]
  },
  {
   "cell_type": "code",
   "execution_count": 26,
   "metadata": {},
   "outputs": [
    {
     "data": {
      "text/html": [
       "<div>\n",
       "<style scoped>\n",
       "    .dataframe tbody tr th:only-of-type {\n",
       "        vertical-align: middle;\n",
       "    }\n",
       "\n",
       "    .dataframe tbody tr th {\n",
       "        vertical-align: top;\n",
       "    }\n",
       "\n",
       "    .dataframe thead th {\n",
       "        text-align: right;\n",
       "    }\n",
       "</style>\n",
       "<table border=\"1\" class=\"dataframe\">\n",
       "  <thead>\n",
       "    <tr style=\"text-align: right;\">\n",
       "      <th></th>\n",
       "      <th>Service_provider</th>\n",
       "      <th>technology</th>\n",
       "      <th>Download_Upload</th>\n",
       "      <th>Data_Speed(Kbps)</th>\n",
       "      <th>signal_strength</th>\n",
       "      <th>Service_Area</th>\n",
       "    </tr>\n",
       "  </thead>\n",
       "  <tbody>\n",
       "    <tr>\n",
       "      <th>0</th>\n",
       "      <td>0</td>\n",
       "      <td>4G</td>\n",
       "      <td>0</td>\n",
       "      <td>4794</td>\n",
       "      <td>-53.0</td>\n",
       "      <td>UP East</td>\n",
       "    </tr>\n",
       "    <tr>\n",
       "      <th>1</th>\n",
       "      <td>0</td>\n",
       "      <td>4G</td>\n",
       "      <td>1</td>\n",
       "      <td>536</td>\n",
       "      <td>-59.0</td>\n",
       "      <td>UP East</td>\n",
       "    </tr>\n",
       "    <tr>\n",
       "      <th>2</th>\n",
       "      <td>1</td>\n",
       "      <td>4G</td>\n",
       "      <td>0</td>\n",
       "      <td>38507</td>\n",
       "      <td>-59.0</td>\n",
       "      <td>UP West</td>\n",
       "    </tr>\n",
       "    <tr>\n",
       "      <th>3</th>\n",
       "      <td>1</td>\n",
       "      <td>4G</td>\n",
       "      <td>0</td>\n",
       "      <td>78938</td>\n",
       "      <td>-59.0</td>\n",
       "      <td>UP West</td>\n",
       "    </tr>\n",
       "    <tr>\n",
       "      <th>4</th>\n",
       "      <td>1</td>\n",
       "      <td>4G</td>\n",
       "      <td>1</td>\n",
       "      <td>3560</td>\n",
       "      <td>-59.0</td>\n",
       "      <td>UP West</td>\n",
       "    </tr>\n",
       "  </tbody>\n",
       "</table>\n",
       "</div>"
      ],
      "text/plain": [
       "   Service_provider technology  Download_Upload  Data_Speed(Kbps)  \\\n",
       "0                 0         4G                0              4794   \n",
       "1                 0         4G                1               536   \n",
       "2                 1         4G                0             38507   \n",
       "3                 1         4G                0             78938   \n",
       "4                 1         4G                1              3560   \n",
       "\n",
       "   signal_strength Service_Area  \n",
       "0            -53.0      UP East  \n",
       "1            -59.0      UP East  \n",
       "2            -59.0      UP West  \n",
       "3            -59.0      UP West  \n",
       "4            -59.0      UP West  "
      ]
     },
     "execution_count": 26,
     "metadata": {},
     "output_type": "execute_result"
    }
   ],
   "source": [
    "df.head()"
   ]
  },
  {
   "cell_type": "code",
   "execution_count": 27,
   "metadata": {},
   "outputs": [],
   "source": [
    "data2 = df.loc[df['signal_strength']< -78]"
   ]
  },
  {
   "cell_type": "code",
   "execution_count": 28,
   "metadata": {},
   "outputs": [
    {
     "name": "stdout",
     "output_type": "stream",
     "text": [
      "<class 'pandas.core.frame.DataFrame'>\n",
      "Int64Index: 2370 entries, 30 to 3996\n",
      "Data columns (total 6 columns):\n",
      " #   Column            Non-Null Count  Dtype  \n",
      "---  ------            --------------  -----  \n",
      " 0   Service_provider  2370 non-null   int64  \n",
      " 1   technology        2370 non-null   object \n",
      " 2   Download_Upload   2370 non-null   int64  \n",
      " 3   Data_Speed(Kbps)  2370 non-null   int64  \n",
      " 4   signal_strength   2370 non-null   float64\n",
      " 5   Service_Area      2370 non-null   object \n",
      "dtypes: float64(1), int64(3), object(2)\n",
      "memory usage: 129.6+ KB\n"
     ]
    }
   ],
   "source": [
    "data2.info()"
   ]
  },
  {
   "cell_type": "markdown",
   "metadata": {},
   "source": [
    "#### Number of records having signal_strength less than -78 is 2370"
   ]
  },
  {
   "cell_type": "markdown",
   "metadata": {},
   "source": [
    "----------------------------------------------------------------------"
   ]
  },
  {
   "cell_type": "markdown",
   "metadata": {},
   "source": [
    "Q 3 :- What is the median Upload Data_Speed for Service_provider '1' in entire UP."
   ]
  },
  {
   "cell_type": "code",
   "execution_count": 30,
   "metadata": {},
   "outputs": [
    {
     "data": {
      "text/html": [
       "<div>\n",
       "<style scoped>\n",
       "    .dataframe tbody tr th:only-of-type {\n",
       "        vertical-align: middle;\n",
       "    }\n",
       "\n",
       "    .dataframe tbody tr th {\n",
       "        vertical-align: top;\n",
       "    }\n",
       "\n",
       "    .dataframe thead th {\n",
       "        text-align: right;\n",
       "    }\n",
       "</style>\n",
       "<table border=\"1\" class=\"dataframe\">\n",
       "  <thead>\n",
       "    <tr style=\"text-align: right;\">\n",
       "      <th></th>\n",
       "      <th>Service_provider</th>\n",
       "      <th>technology</th>\n",
       "      <th>Download_Upload</th>\n",
       "      <th>Data_Speed(Kbps)</th>\n",
       "      <th>signal_strength</th>\n",
       "      <th>Service_Area</th>\n",
       "    </tr>\n",
       "  </thead>\n",
       "  <tbody>\n",
       "    <tr>\n",
       "      <th>0</th>\n",
       "      <td>0</td>\n",
       "      <td>4G</td>\n",
       "      <td>0</td>\n",
       "      <td>4794</td>\n",
       "      <td>-53.0</td>\n",
       "      <td>UP East</td>\n",
       "    </tr>\n",
       "    <tr>\n",
       "      <th>1</th>\n",
       "      <td>0</td>\n",
       "      <td>4G</td>\n",
       "      <td>1</td>\n",
       "      <td>536</td>\n",
       "      <td>-59.0</td>\n",
       "      <td>UP East</td>\n",
       "    </tr>\n",
       "    <tr>\n",
       "      <th>2</th>\n",
       "      <td>1</td>\n",
       "      <td>4G</td>\n",
       "      <td>0</td>\n",
       "      <td>38507</td>\n",
       "      <td>-59.0</td>\n",
       "      <td>UP West</td>\n",
       "    </tr>\n",
       "    <tr>\n",
       "      <th>3</th>\n",
       "      <td>1</td>\n",
       "      <td>4G</td>\n",
       "      <td>0</td>\n",
       "      <td>78938</td>\n",
       "      <td>-59.0</td>\n",
       "      <td>UP West</td>\n",
       "    </tr>\n",
       "    <tr>\n",
       "      <th>4</th>\n",
       "      <td>1</td>\n",
       "      <td>4G</td>\n",
       "      <td>1</td>\n",
       "      <td>3560</td>\n",
       "      <td>-59.0</td>\n",
       "      <td>UP West</td>\n",
       "    </tr>\n",
       "  </tbody>\n",
       "</table>\n",
       "</div>"
      ],
      "text/plain": [
       "   Service_provider technology  Download_Upload  Data_Speed(Kbps)  \\\n",
       "0                 0         4G                0              4794   \n",
       "1                 0         4G                1               536   \n",
       "2                 1         4G                0             38507   \n",
       "3                 1         4G                0             78938   \n",
       "4                 1         4G                1              3560   \n",
       "\n",
       "   signal_strength Service_Area  \n",
       "0            -53.0      UP East  \n",
       "1            -59.0      UP East  \n",
       "2            -59.0      UP West  \n",
       "3            -59.0      UP West  \n",
       "4            -59.0      UP West  "
      ]
     },
     "execution_count": 30,
     "metadata": {},
     "output_type": "execute_result"
    }
   ],
   "source": [
    "df.head()"
   ]
  },
  {
   "cell_type": "code",
   "execution_count": 31,
   "metadata": {},
   "outputs": [],
   "source": [
    "data3 = df.loc[(df['Download_Upload']==1) & (df['Service_provider']==1) & (df['Service_Area'].str.contains('UP'))]"
   ]
  },
  {
   "cell_type": "code",
   "execution_count": 32,
   "metadata": {},
   "outputs": [
    {
     "data": {
      "text/html": [
       "<div>\n",
       "<style scoped>\n",
       "    .dataframe tbody tr th:only-of-type {\n",
       "        vertical-align: middle;\n",
       "    }\n",
       "\n",
       "    .dataframe tbody tr th {\n",
       "        vertical-align: top;\n",
       "    }\n",
       "\n",
       "    .dataframe thead th {\n",
       "        text-align: right;\n",
       "    }\n",
       "</style>\n",
       "<table border=\"1\" class=\"dataframe\">\n",
       "  <thead>\n",
       "    <tr style=\"text-align: right;\">\n",
       "      <th></th>\n",
       "      <th>Service_provider</th>\n",
       "      <th>technology</th>\n",
       "      <th>Download_Upload</th>\n",
       "      <th>Data_Speed(Kbps)</th>\n",
       "      <th>signal_strength</th>\n",
       "      <th>Service_Area</th>\n",
       "    </tr>\n",
       "  </thead>\n",
       "  <tbody>\n",
       "    <tr>\n",
       "      <th>4</th>\n",
       "      <td>1</td>\n",
       "      <td>4G</td>\n",
       "      <td>1</td>\n",
       "      <td>3560</td>\n",
       "      <td>-59.0</td>\n",
       "      <td>UP West</td>\n",
       "    </tr>\n",
       "    <tr>\n",
       "      <th>5</th>\n",
       "      <td>1</td>\n",
       "      <td>4G</td>\n",
       "      <td>1</td>\n",
       "      <td>5446</td>\n",
       "      <td>-59.0</td>\n",
       "      <td>UP West</td>\n",
       "    </tr>\n",
       "    <tr>\n",
       "      <th>7</th>\n",
       "      <td>1</td>\n",
       "      <td>4G</td>\n",
       "      <td>1</td>\n",
       "      <td>7722</td>\n",
       "      <td>-60.0</td>\n",
       "      <td>UP West</td>\n",
       "    </tr>\n",
       "    <tr>\n",
       "      <th>28</th>\n",
       "      <td>1</td>\n",
       "      <td>4G</td>\n",
       "      <td>1</td>\n",
       "      <td>6639</td>\n",
       "      <td>-73.0</td>\n",
       "      <td>UP West</td>\n",
       "    </tr>\n",
       "    <tr>\n",
       "      <th>29</th>\n",
       "      <td>1</td>\n",
       "      <td>4G</td>\n",
       "      <td>1</td>\n",
       "      <td>7407</td>\n",
       "      <td>-73.0</td>\n",
       "      <td>UP West</td>\n",
       "    </tr>\n",
       "  </tbody>\n",
       "</table>\n",
       "</div>"
      ],
      "text/plain": [
       "    Service_provider technology  Download_Upload  Data_Speed(Kbps)  \\\n",
       "4                  1         4G                1              3560   \n",
       "5                  1         4G                1              5446   \n",
       "7                  1         4G                1              7722   \n",
       "28                 1         4G                1              6639   \n",
       "29                 1         4G                1              7407   \n",
       "\n",
       "    signal_strength Service_Area  \n",
       "4             -59.0      UP West  \n",
       "5             -59.0      UP West  \n",
       "7             -60.0      UP West  \n",
       "28            -73.0      UP West  \n",
       "29            -73.0      UP West  "
      ]
     },
     "execution_count": 32,
     "metadata": {},
     "output_type": "execute_result"
    }
   ],
   "source": [
    "data3.head()"
   ]
  },
  {
   "cell_type": "code",
   "execution_count": 33,
   "metadata": {},
   "outputs": [
    {
     "data": {
      "text/plain": [
       "array(['UP West', 'UP East'], dtype=object)"
      ]
     },
     "execution_count": 33,
     "metadata": {},
     "output_type": "execute_result"
    }
   ],
   "source": [
    "data3.Service_Area.unique()"
   ]
  },
  {
   "cell_type": "code",
   "execution_count": 34,
   "metadata": {},
   "outputs": [
    {
     "name": "stdout",
     "output_type": "stream",
     "text": [
      "<class 'pandas.core.frame.DataFrame'>\n",
      "Int64Index: 124 entries, 4 to 3995\n",
      "Data columns (total 6 columns):\n",
      " #   Column            Non-Null Count  Dtype  \n",
      "---  ------            --------------  -----  \n",
      " 0   Service_provider  124 non-null    int64  \n",
      " 1   technology        124 non-null    object \n",
      " 2   Download_Upload   124 non-null    int64  \n",
      " 3   Data_Speed(Kbps)  124 non-null    int64  \n",
      " 4   signal_strength   124 non-null    float64\n",
      " 5   Service_Area      124 non-null    object \n",
      "dtypes: float64(1), int64(3), object(2)\n",
      "memory usage: 6.8+ KB\n"
     ]
    }
   ],
   "source": [
    "data3.info()"
   ]
  },
  {
   "cell_type": "code",
   "execution_count": 35,
   "metadata": {},
   "outputs": [
    {
     "data": {
      "text/html": [
       "<div>\n",
       "<style scoped>\n",
       "    .dataframe tbody tr th:only-of-type {\n",
       "        vertical-align: middle;\n",
       "    }\n",
       "\n",
       "    .dataframe tbody tr th {\n",
       "        vertical-align: top;\n",
       "    }\n",
       "\n",
       "    .dataframe thead th {\n",
       "        text-align: right;\n",
       "    }\n",
       "</style>\n",
       "<table border=\"1\" class=\"dataframe\">\n",
       "  <thead>\n",
       "    <tr style=\"text-align: right;\">\n",
       "      <th></th>\n",
       "      <th>Service_provider</th>\n",
       "      <th>Download_Upload</th>\n",
       "      <th>Data_Speed(Kbps)</th>\n",
       "      <th>signal_strength</th>\n",
       "    </tr>\n",
       "  </thead>\n",
       "  <tbody>\n",
       "    <tr>\n",
       "      <th>count</th>\n",
       "      <td>124.0</td>\n",
       "      <td>124.0</td>\n",
       "      <td>124.000000</td>\n",
       "      <td>124.000000</td>\n",
       "    </tr>\n",
       "    <tr>\n",
       "      <th>mean</th>\n",
       "      <td>1.0</td>\n",
       "      <td>1.0</td>\n",
       "      <td>3747.887097</td>\n",
       "      <td>-72.629032</td>\n",
       "    </tr>\n",
       "    <tr>\n",
       "      <th>std</th>\n",
       "      <td>0.0</td>\n",
       "      <td>0.0</td>\n",
       "      <td>3993.838570</td>\n",
       "      <td>14.419650</td>\n",
       "    </tr>\n",
       "    <tr>\n",
       "      <th>min</th>\n",
       "      <td>1.0</td>\n",
       "      <td>1.0</td>\n",
       "      <td>27.000000</td>\n",
       "      <td>-108.000000</td>\n",
       "    </tr>\n",
       "    <tr>\n",
       "      <th>25%</th>\n",
       "      <td>1.0</td>\n",
       "      <td>1.0</td>\n",
       "      <td>463.250000</td>\n",
       "      <td>-81.000000</td>\n",
       "    </tr>\n",
       "    <tr>\n",
       "      <th>50%</th>\n",
       "      <td>1.0</td>\n",
       "      <td>1.0</td>\n",
       "      <td>1899.500000</td>\n",
       "      <td>-72.000000</td>\n",
       "    </tr>\n",
       "    <tr>\n",
       "      <th>75%</th>\n",
       "      <td>1.0</td>\n",
       "      <td>1.0</td>\n",
       "      <td>7131.000000</td>\n",
       "      <td>-61.000000</td>\n",
       "    </tr>\n",
       "    <tr>\n",
       "      <th>max</th>\n",
       "      <td>1.0</td>\n",
       "      <td>1.0</td>\n",
       "      <td>16947.000000</td>\n",
       "      <td>-51.000000</td>\n",
       "    </tr>\n",
       "  </tbody>\n",
       "</table>\n",
       "</div>"
      ],
      "text/plain": [
       "       Service_provider  Download_Upload  Data_Speed(Kbps)  signal_strength\n",
       "count             124.0            124.0        124.000000       124.000000\n",
       "mean                1.0              1.0       3747.887097       -72.629032\n",
       "std                 0.0              0.0       3993.838570        14.419650\n",
       "min                 1.0              1.0         27.000000      -108.000000\n",
       "25%                 1.0              1.0        463.250000       -81.000000\n",
       "50%                 1.0              1.0       1899.500000       -72.000000\n",
       "75%                 1.0              1.0       7131.000000       -61.000000\n",
       "max                 1.0              1.0      16947.000000       -51.000000"
      ]
     },
     "execution_count": 35,
     "metadata": {},
     "output_type": "execute_result"
    }
   ],
   "source": [
    "data3.describe()"
   ]
  },
  {
   "cell_type": "code",
   "execution_count": 37,
   "metadata": {},
   "outputs": [
    {
     "data": {
      "text/plain": [
       "1899.5"
      ]
     },
     "execution_count": 37,
     "metadata": {},
     "output_type": "execute_result"
    }
   ],
   "source": [
    "data3['Data_Speed(Kbps)'].median()"
   ]
  },
  {
   "cell_type": "markdown",
   "metadata": {},
   "source": [
    "#####  Median Upload Data_Speed for Service_provider '1' in entire UP is ----> 1899.50"
   ]
  },
  {
   "cell_type": "markdown",
   "metadata": {},
   "source": [
    "----------------------------------------------------------------------------"
   ]
  },
  {
   "cell_type": "markdown",
   "metadata": {},
   "source": [
    "Q 4 :- Which Service_provider in [0,1,2,3,4] has the maximum download\n",
    "Data_Speed in Mumbai."
   ]
  },
  {
   "cell_type": "code",
   "execution_count": 38,
   "metadata": {},
   "outputs": [
    {
     "data": {
      "text/html": [
       "<div>\n",
       "<style scoped>\n",
       "    .dataframe tbody tr th:only-of-type {\n",
       "        vertical-align: middle;\n",
       "    }\n",
       "\n",
       "    .dataframe tbody tr th {\n",
       "        vertical-align: top;\n",
       "    }\n",
       "\n",
       "    .dataframe thead th {\n",
       "        text-align: right;\n",
       "    }\n",
       "</style>\n",
       "<table border=\"1\" class=\"dataframe\">\n",
       "  <thead>\n",
       "    <tr style=\"text-align: right;\">\n",
       "      <th></th>\n",
       "      <th>Service_provider</th>\n",
       "      <th>technology</th>\n",
       "      <th>Download_Upload</th>\n",
       "      <th>Data_Speed(Kbps)</th>\n",
       "      <th>signal_strength</th>\n",
       "      <th>Service_Area</th>\n",
       "    </tr>\n",
       "  </thead>\n",
       "  <tbody>\n",
       "    <tr>\n",
       "      <th>0</th>\n",
       "      <td>0</td>\n",
       "      <td>4G</td>\n",
       "      <td>0</td>\n",
       "      <td>4794</td>\n",
       "      <td>-53.0</td>\n",
       "      <td>UP East</td>\n",
       "    </tr>\n",
       "    <tr>\n",
       "      <th>1</th>\n",
       "      <td>0</td>\n",
       "      <td>4G</td>\n",
       "      <td>1</td>\n",
       "      <td>536</td>\n",
       "      <td>-59.0</td>\n",
       "      <td>UP East</td>\n",
       "    </tr>\n",
       "    <tr>\n",
       "      <th>2</th>\n",
       "      <td>1</td>\n",
       "      <td>4G</td>\n",
       "      <td>0</td>\n",
       "      <td>38507</td>\n",
       "      <td>-59.0</td>\n",
       "      <td>UP West</td>\n",
       "    </tr>\n",
       "    <tr>\n",
       "      <th>3</th>\n",
       "      <td>1</td>\n",
       "      <td>4G</td>\n",
       "      <td>0</td>\n",
       "      <td>78938</td>\n",
       "      <td>-59.0</td>\n",
       "      <td>UP West</td>\n",
       "    </tr>\n",
       "    <tr>\n",
       "      <th>4</th>\n",
       "      <td>1</td>\n",
       "      <td>4G</td>\n",
       "      <td>1</td>\n",
       "      <td>3560</td>\n",
       "      <td>-59.0</td>\n",
       "      <td>UP West</td>\n",
       "    </tr>\n",
       "  </tbody>\n",
       "</table>\n",
       "</div>"
      ],
      "text/plain": [
       "   Service_provider technology  Download_Upload  Data_Speed(Kbps)  \\\n",
       "0                 0         4G                0              4794   \n",
       "1                 0         4G                1               536   \n",
       "2                 1         4G                0             38507   \n",
       "3                 1         4G                0             78938   \n",
       "4                 1         4G                1              3560   \n",
       "\n",
       "   signal_strength Service_Area  \n",
       "0            -53.0      UP East  \n",
       "1            -59.0      UP East  \n",
       "2            -59.0      UP West  \n",
       "3            -59.0      UP West  \n",
       "4            -59.0      UP West  "
      ]
     },
     "execution_count": 38,
     "metadata": {},
     "output_type": "execute_result"
    }
   ],
   "source": [
    "df.head()"
   ]
  },
  {
   "cell_type": "code",
   "execution_count": 39,
   "metadata": {},
   "outputs": [],
   "source": [
    "data4 = df.loc[(df['Download_Upload']==0) & (df['Service_Area']== 'Mumbai')]"
   ]
  },
  {
   "cell_type": "code",
   "execution_count": 40,
   "metadata": {},
   "outputs": [
    {
     "data": {
      "text/html": [
       "<div>\n",
       "<style scoped>\n",
       "    .dataframe tbody tr th:only-of-type {\n",
       "        vertical-align: middle;\n",
       "    }\n",
       "\n",
       "    .dataframe tbody tr th {\n",
       "        vertical-align: top;\n",
       "    }\n",
       "\n",
       "    .dataframe thead th {\n",
       "        text-align: right;\n",
       "    }\n",
       "</style>\n",
       "<table border=\"1\" class=\"dataframe\">\n",
       "  <thead>\n",
       "    <tr style=\"text-align: right;\">\n",
       "      <th></th>\n",
       "      <th>Service_provider</th>\n",
       "      <th>technology</th>\n",
       "      <th>Download_Upload</th>\n",
       "      <th>Data_Speed(Kbps)</th>\n",
       "      <th>signal_strength</th>\n",
       "      <th>Service_Area</th>\n",
       "    </tr>\n",
       "  </thead>\n",
       "  <tbody>\n",
       "    <tr>\n",
       "      <th>119</th>\n",
       "      <td>1</td>\n",
       "      <td>4G</td>\n",
       "      <td>0</td>\n",
       "      <td>352</td>\n",
       "      <td>-87.0</td>\n",
       "      <td>Mumbai</td>\n",
       "    </tr>\n",
       "    <tr>\n",
       "      <th>120</th>\n",
       "      <td>3</td>\n",
       "      <td>4G</td>\n",
       "      <td>0</td>\n",
       "      <td>662</td>\n",
       "      <td>-71.0</td>\n",
       "      <td>Mumbai</td>\n",
       "    </tr>\n",
       "    <tr>\n",
       "      <th>121</th>\n",
       "      <td>3</td>\n",
       "      <td>4G</td>\n",
       "      <td>0</td>\n",
       "      <td>2953</td>\n",
       "      <td>-77.0</td>\n",
       "      <td>Mumbai</td>\n",
       "    </tr>\n",
       "    <tr>\n",
       "      <th>122</th>\n",
       "      <td>3</td>\n",
       "      <td>4G</td>\n",
       "      <td>0</td>\n",
       "      <td>437</td>\n",
       "      <td>-67.0</td>\n",
       "      <td>Mumbai</td>\n",
       "    </tr>\n",
       "    <tr>\n",
       "      <th>123</th>\n",
       "      <td>3</td>\n",
       "      <td>4G</td>\n",
       "      <td>0</td>\n",
       "      <td>1506</td>\n",
       "      <td>-71.0</td>\n",
       "      <td>Mumbai</td>\n",
       "    </tr>\n",
       "  </tbody>\n",
       "</table>\n",
       "</div>"
      ],
      "text/plain": [
       "     Service_provider technology  Download_Upload  Data_Speed(Kbps)  \\\n",
       "119                 1         4G                0               352   \n",
       "120                 3         4G                0               662   \n",
       "121                 3         4G                0              2953   \n",
       "122                 3         4G                0               437   \n",
       "123                 3         4G                0              1506   \n",
       "\n",
       "     signal_strength Service_Area  \n",
       "119            -87.0       Mumbai  \n",
       "120            -71.0       Mumbai  \n",
       "121            -77.0       Mumbai  \n",
       "122            -67.0       Mumbai  \n",
       "123            -71.0       Mumbai  "
      ]
     },
     "execution_count": 40,
     "metadata": {},
     "output_type": "execute_result"
    }
   ],
   "source": [
    "data4.head()"
   ]
  },
  {
   "cell_type": "code",
   "execution_count": 41,
   "metadata": {},
   "outputs": [
    {
     "name": "stdout",
     "output_type": "stream",
     "text": [
      "<class 'pandas.core.frame.DataFrame'>\n",
      "Int64Index: 78 entries, 119 to 3710\n",
      "Data columns (total 6 columns):\n",
      " #   Column            Non-Null Count  Dtype  \n",
      "---  ------            --------------  -----  \n",
      " 0   Service_provider  78 non-null     int64  \n",
      " 1   technology        78 non-null     object \n",
      " 2   Download_Upload   78 non-null     int64  \n",
      " 3   Data_Speed(Kbps)  78 non-null     int64  \n",
      " 4   signal_strength   78 non-null     float64\n",
      " 5   Service_Area      78 non-null     object \n",
      "dtypes: float64(1), int64(3), object(2)\n",
      "memory usage: 4.3+ KB\n"
     ]
    }
   ],
   "source": [
    "data4.info()"
   ]
  },
  {
   "cell_type": "code",
   "execution_count": 42,
   "metadata": {},
   "outputs": [
    {
     "data": {
      "text/html": [
       "<div>\n",
       "<style scoped>\n",
       "    .dataframe tbody tr th:only-of-type {\n",
       "        vertical-align: middle;\n",
       "    }\n",
       "\n",
       "    .dataframe tbody tr th {\n",
       "        vertical-align: top;\n",
       "    }\n",
       "\n",
       "    .dataframe thead th {\n",
       "        text-align: right;\n",
       "    }\n",
       "</style>\n",
       "<table border=\"1\" class=\"dataframe\">\n",
       "  <thead>\n",
       "    <tr style=\"text-align: right;\">\n",
       "      <th></th>\n",
       "      <th>Service_provider</th>\n",
       "      <th>Download_Upload</th>\n",
       "      <th>Data_Speed(Kbps)</th>\n",
       "      <th>signal_strength</th>\n",
       "    </tr>\n",
       "  </thead>\n",
       "  <tbody>\n",
       "    <tr>\n",
       "      <th>count</th>\n",
       "      <td>78.000000</td>\n",
       "      <td>78.0</td>\n",
       "      <td>78.000000</td>\n",
       "      <td>78.000000</td>\n",
       "    </tr>\n",
       "    <tr>\n",
       "      <th>mean</th>\n",
       "      <td>2.692308</td>\n",
       "      <td>0.0</td>\n",
       "      <td>4767.910256</td>\n",
       "      <td>-74.538462</td>\n",
       "    </tr>\n",
       "    <tr>\n",
       "      <th>std</th>\n",
       "      <td>0.872490</td>\n",
       "      <td>0.0</td>\n",
       "      <td>4226.595610</td>\n",
       "      <td>12.902927</td>\n",
       "    </tr>\n",
       "    <tr>\n",
       "      <th>min</th>\n",
       "      <td>0.000000</td>\n",
       "      <td>0.0</td>\n",
       "      <td>0.000000</td>\n",
       "      <td>-106.000000</td>\n",
       "    </tr>\n",
       "    <tr>\n",
       "      <th>25%</th>\n",
       "      <td>3.000000</td>\n",
       "      <td>0.0</td>\n",
       "      <td>1281.500000</td>\n",
       "      <td>-81.750000</td>\n",
       "    </tr>\n",
       "    <tr>\n",
       "      <th>50%</th>\n",
       "      <td>3.000000</td>\n",
       "      <td>0.0</td>\n",
       "      <td>4105.000000</td>\n",
       "      <td>-73.000000</td>\n",
       "    </tr>\n",
       "    <tr>\n",
       "      <th>75%</th>\n",
       "      <td>3.000000</td>\n",
       "      <td>0.0</td>\n",
       "      <td>7235.500000</td>\n",
       "      <td>-67.000000</td>\n",
       "    </tr>\n",
       "    <tr>\n",
       "      <th>max</th>\n",
       "      <td>3.000000</td>\n",
       "      <td>0.0</td>\n",
       "      <td>22815.000000</td>\n",
       "      <td>-51.000000</td>\n",
       "    </tr>\n",
       "  </tbody>\n",
       "</table>\n",
       "</div>"
      ],
      "text/plain": [
       "       Service_provider  Download_Upload  Data_Speed(Kbps)  signal_strength\n",
       "count         78.000000             78.0         78.000000        78.000000\n",
       "mean           2.692308              0.0       4767.910256       -74.538462\n",
       "std            0.872490              0.0       4226.595610        12.902927\n",
       "min            0.000000              0.0          0.000000      -106.000000\n",
       "25%            3.000000              0.0       1281.500000       -81.750000\n",
       "50%            3.000000              0.0       4105.000000       -73.000000\n",
       "75%            3.000000              0.0       7235.500000       -67.000000\n",
       "max            3.000000              0.0      22815.000000       -51.000000"
      ]
     },
     "execution_count": 42,
     "metadata": {},
     "output_type": "execute_result"
    }
   ],
   "source": [
    "data4.describe()"
   ]
  },
  {
   "cell_type": "code",
   "execution_count": 44,
   "metadata": {},
   "outputs": [],
   "source": [
    "maximum = data4.loc[data4['Data_Speed(Kbps)']== 22815]"
   ]
  },
  {
   "cell_type": "code",
   "execution_count": 43,
   "metadata": {},
   "outputs": [
    {
     "data": {
      "text/plain": [
       "22815"
      ]
     },
     "execution_count": 43,
     "metadata": {},
     "output_type": "execute_result"
    }
   ],
   "source": [
    "data4['Data_Speed(Kbps)'].max()"
   ]
  },
  {
   "cell_type": "code",
   "execution_count": 45,
   "metadata": {},
   "outputs": [
    {
     "data": {
      "text/html": [
       "<div>\n",
       "<style scoped>\n",
       "    .dataframe tbody tr th:only-of-type {\n",
       "        vertical-align: middle;\n",
       "    }\n",
       "\n",
       "    .dataframe tbody tr th {\n",
       "        vertical-align: top;\n",
       "    }\n",
       "\n",
       "    .dataframe thead th {\n",
       "        text-align: right;\n",
       "    }\n",
       "</style>\n",
       "<table border=\"1\" class=\"dataframe\">\n",
       "  <thead>\n",
       "    <tr style=\"text-align: right;\">\n",
       "      <th></th>\n",
       "      <th>Service_provider</th>\n",
       "      <th>technology</th>\n",
       "      <th>Download_Upload</th>\n",
       "      <th>Data_Speed(Kbps)</th>\n",
       "      <th>signal_strength</th>\n",
       "      <th>Service_Area</th>\n",
       "    </tr>\n",
       "  </thead>\n",
       "  <tbody>\n",
       "    <tr>\n",
       "      <th>128</th>\n",
       "      <td>3</td>\n",
       "      <td>4G</td>\n",
       "      <td>0</td>\n",
       "      <td>22815</td>\n",
       "      <td>-73.0</td>\n",
       "      <td>Mumbai</td>\n",
       "    </tr>\n",
       "  </tbody>\n",
       "</table>\n",
       "</div>"
      ],
      "text/plain": [
       "     Service_provider technology  Download_Upload  Data_Speed(Kbps)  \\\n",
       "128                 3         4G                0             22815   \n",
       "\n",
       "     signal_strength Service_Area  \n",
       "128            -73.0       Mumbai  "
      ]
     },
     "execution_count": 45,
     "metadata": {},
     "output_type": "execute_result"
    }
   ],
   "source": [
    "maximum"
   ]
  },
  {
   "cell_type": "markdown",
   "metadata": {},
   "source": [
    "#### Service_provider in [0,1,2,3,4] has the maximum download Data_Speed in Mumbai is ---> 3"
   ]
  },
  {
   "cell_type": "markdown",
   "metadata": {},
   "source": [
    "-------------------------------------------------------------------------------------"
   ]
  },
  {
   "cell_type": "markdown",
   "metadata": {},
   "source": [
    "Q 5 :- What is the mean upload Data_Speed for the records starting from Sno. 2600-\n",
    "3999 having Service_Area= Delhi where signal_strength is less than 70."
   ]
  },
  {
   "cell_type": "code",
   "execution_count": 59,
   "metadata": {},
   "outputs": [
    {
     "data": {
      "text/html": [
       "<div>\n",
       "<style scoped>\n",
       "    .dataframe tbody tr th:only-of-type {\n",
       "        vertical-align: middle;\n",
       "    }\n",
       "\n",
       "    .dataframe tbody tr th {\n",
       "        vertical-align: top;\n",
       "    }\n",
       "\n",
       "    .dataframe thead th {\n",
       "        text-align: right;\n",
       "    }\n",
       "</style>\n",
       "<table border=\"1\" class=\"dataframe\">\n",
       "  <thead>\n",
       "    <tr style=\"text-align: right;\">\n",
       "      <th></th>\n",
       "      <th>Service_provider</th>\n",
       "      <th>technology</th>\n",
       "      <th>Download_Upload</th>\n",
       "      <th>Data_Speed(Kbps)</th>\n",
       "      <th>signal_strength</th>\n",
       "      <th>Service_Area</th>\n",
       "    </tr>\n",
       "  </thead>\n",
       "  <tbody>\n",
       "    <tr>\n",
       "      <th>0</th>\n",
       "      <td>0</td>\n",
       "      <td>4G</td>\n",
       "      <td>0</td>\n",
       "      <td>4794</td>\n",
       "      <td>-53.0</td>\n",
       "      <td>UP East</td>\n",
       "    </tr>\n",
       "    <tr>\n",
       "      <th>1</th>\n",
       "      <td>0</td>\n",
       "      <td>4G</td>\n",
       "      <td>1</td>\n",
       "      <td>536</td>\n",
       "      <td>-59.0</td>\n",
       "      <td>UP East</td>\n",
       "    </tr>\n",
       "    <tr>\n",
       "      <th>2</th>\n",
       "      <td>1</td>\n",
       "      <td>4G</td>\n",
       "      <td>0</td>\n",
       "      <td>38507</td>\n",
       "      <td>-59.0</td>\n",
       "      <td>UP West</td>\n",
       "    </tr>\n",
       "    <tr>\n",
       "      <th>3</th>\n",
       "      <td>1</td>\n",
       "      <td>4G</td>\n",
       "      <td>0</td>\n",
       "      <td>78938</td>\n",
       "      <td>-59.0</td>\n",
       "      <td>UP West</td>\n",
       "    </tr>\n",
       "    <tr>\n",
       "      <th>4</th>\n",
       "      <td>1</td>\n",
       "      <td>4G</td>\n",
       "      <td>1</td>\n",
       "      <td>3560</td>\n",
       "      <td>-59.0</td>\n",
       "      <td>UP West</td>\n",
       "    </tr>\n",
       "  </tbody>\n",
       "</table>\n",
       "</div>"
      ],
      "text/plain": [
       "   Service_provider technology  Download_Upload  Data_Speed(Kbps)  \\\n",
       "0                 0         4G                0              4794   \n",
       "1                 0         4G                1               536   \n",
       "2                 1         4G                0             38507   \n",
       "3                 1         4G                0             78938   \n",
       "4                 1         4G                1              3560   \n",
       "\n",
       "   signal_strength Service_Area  \n",
       "0            -53.0      UP East  \n",
       "1            -59.0      UP East  \n",
       "2            -59.0      UP West  \n",
       "3            -59.0      UP West  \n",
       "4            -59.0      UP West  "
      ]
     },
     "execution_count": 59,
     "metadata": {},
     "output_type": "execute_result"
    }
   ],
   "source": [
    "df.head()"
   ]
  },
  {
   "cell_type": "code",
   "execution_count": 60,
   "metadata": {},
   "outputs": [],
   "source": [
    "data5 = df.loc[(df.index >= 2600)& (df.index <= 3999)]"
   ]
  },
  {
   "cell_type": "code",
   "execution_count": 61,
   "metadata": {},
   "outputs": [
    {
     "data": {
      "text/html": [
       "<div>\n",
       "<style scoped>\n",
       "    .dataframe tbody tr th:only-of-type {\n",
       "        vertical-align: middle;\n",
       "    }\n",
       "\n",
       "    .dataframe tbody tr th {\n",
       "        vertical-align: top;\n",
       "    }\n",
       "\n",
       "    .dataframe thead th {\n",
       "        text-align: right;\n",
       "    }\n",
       "</style>\n",
       "<table border=\"1\" class=\"dataframe\">\n",
       "  <thead>\n",
       "    <tr style=\"text-align: right;\">\n",
       "      <th></th>\n",
       "      <th>Service_provider</th>\n",
       "      <th>technology</th>\n",
       "      <th>Download_Upload</th>\n",
       "      <th>Data_Speed(Kbps)</th>\n",
       "      <th>signal_strength</th>\n",
       "      <th>Service_Area</th>\n",
       "    </tr>\n",
       "  </thead>\n",
       "  <tbody>\n",
       "    <tr>\n",
       "      <th>2600</th>\n",
       "      <td>1</td>\n",
       "      <td>4G</td>\n",
       "      <td>0</td>\n",
       "      <td>14568</td>\n",
       "      <td>-70.0</td>\n",
       "      <td>Punjab</td>\n",
       "    </tr>\n",
       "    <tr>\n",
       "      <th>2601</th>\n",
       "      <td>1</td>\n",
       "      <td>4G</td>\n",
       "      <td>0</td>\n",
       "      <td>286</td>\n",
       "      <td>-107.0</td>\n",
       "      <td>Punjab</td>\n",
       "    </tr>\n",
       "    <tr>\n",
       "      <th>2602</th>\n",
       "      <td>1</td>\n",
       "      <td>4G</td>\n",
       "      <td>0</td>\n",
       "      <td>637</td>\n",
       "      <td>-112.0</td>\n",
       "      <td>Punjab</td>\n",
       "    </tr>\n",
       "    <tr>\n",
       "      <th>2603</th>\n",
       "      <td>1</td>\n",
       "      <td>4G</td>\n",
       "      <td>0</td>\n",
       "      <td>995</td>\n",
       "      <td>-92.0</td>\n",
       "      <td>Punjab</td>\n",
       "    </tr>\n",
       "    <tr>\n",
       "      <th>2604</th>\n",
       "      <td>1</td>\n",
       "      <td>4G</td>\n",
       "      <td>1</td>\n",
       "      <td>19277</td>\n",
       "      <td>-81.0</td>\n",
       "      <td>Punjab</td>\n",
       "    </tr>\n",
       "  </tbody>\n",
       "</table>\n",
       "</div>"
      ],
      "text/plain": [
       "      Service_provider technology  Download_Upload  Data_Speed(Kbps)  \\\n",
       "2600                 1         4G                0             14568   \n",
       "2601                 1         4G                0               286   \n",
       "2602                 1         4G                0               637   \n",
       "2603                 1         4G                0               995   \n",
       "2604                 1         4G                1             19277   \n",
       "\n",
       "      signal_strength Service_Area  \n",
       "2600            -70.0       Punjab  \n",
       "2601           -107.0       Punjab  \n",
       "2602           -112.0       Punjab  \n",
       "2603            -92.0       Punjab  \n",
       "2604            -81.0       Punjab  "
      ]
     },
     "execution_count": 61,
     "metadata": {},
     "output_type": "execute_result"
    }
   ],
   "source": [
    "data5.head()"
   ]
  },
  {
   "cell_type": "code",
   "execution_count": 62,
   "metadata": {},
   "outputs": [],
   "source": [
    "data51 = data5.loc[(data5['Service_Area']=='Delhi') & (data5['signal_strength'] < 70) & (data5['Download_Upload']==1)]"
   ]
  },
  {
   "cell_type": "code",
   "execution_count": 63,
   "metadata": {},
   "outputs": [
    {
     "data": {
      "text/html": [
       "<div>\n",
       "<style scoped>\n",
       "    .dataframe tbody tr th:only-of-type {\n",
       "        vertical-align: middle;\n",
       "    }\n",
       "\n",
       "    .dataframe tbody tr th {\n",
       "        vertical-align: top;\n",
       "    }\n",
       "\n",
       "    .dataframe thead th {\n",
       "        text-align: right;\n",
       "    }\n",
       "</style>\n",
       "<table border=\"1\" class=\"dataframe\">\n",
       "  <thead>\n",
       "    <tr style=\"text-align: right;\">\n",
       "      <th></th>\n",
       "      <th>Service_provider</th>\n",
       "      <th>technology</th>\n",
       "      <th>Download_Upload</th>\n",
       "      <th>Data_Speed(Kbps)</th>\n",
       "      <th>signal_strength</th>\n",
       "      <th>Service_Area</th>\n",
       "    </tr>\n",
       "  </thead>\n",
       "  <tbody>\n",
       "    <tr>\n",
       "      <th>2781</th>\n",
       "      <td>1</td>\n",
       "      <td>4G</td>\n",
       "      <td>1</td>\n",
       "      <td>1212</td>\n",
       "      <td>-95.0</td>\n",
       "      <td>Delhi</td>\n",
       "    </tr>\n",
       "    <tr>\n",
       "      <th>2782</th>\n",
       "      <td>1</td>\n",
       "      <td>4G</td>\n",
       "      <td>1</td>\n",
       "      <td>3916</td>\n",
       "      <td>-83.0</td>\n",
       "      <td>Delhi</td>\n",
       "    </tr>\n",
       "    <tr>\n",
       "      <th>2783</th>\n",
       "      <td>1</td>\n",
       "      <td>4G</td>\n",
       "      <td>1</td>\n",
       "      <td>139</td>\n",
       "      <td>-97.0</td>\n",
       "      <td>Delhi</td>\n",
       "    </tr>\n",
       "    <tr>\n",
       "      <th>2784</th>\n",
       "      <td>1</td>\n",
       "      <td>4G</td>\n",
       "      <td>1</td>\n",
       "      <td>27</td>\n",
       "      <td>-95.0</td>\n",
       "      <td>Delhi</td>\n",
       "    </tr>\n",
       "    <tr>\n",
       "      <th>2785</th>\n",
       "      <td>1</td>\n",
       "      <td>4G</td>\n",
       "      <td>1</td>\n",
       "      <td>609</td>\n",
       "      <td>-99.0</td>\n",
       "      <td>Delhi</td>\n",
       "    </tr>\n",
       "  </tbody>\n",
       "</table>\n",
       "</div>"
      ],
      "text/plain": [
       "      Service_provider technology  Download_Upload  Data_Speed(Kbps)  \\\n",
       "2781                 1         4G                1              1212   \n",
       "2782                 1         4G                1              3916   \n",
       "2783                 1         4G                1               139   \n",
       "2784                 1         4G                1                27   \n",
       "2785                 1         4G                1               609   \n",
       "\n",
       "      signal_strength Service_Area  \n",
       "2781            -95.0        Delhi  \n",
       "2782            -83.0        Delhi  \n",
       "2783            -97.0        Delhi  \n",
       "2784            -95.0        Delhi  \n",
       "2785            -99.0        Delhi  "
      ]
     },
     "execution_count": 63,
     "metadata": {},
     "output_type": "execute_result"
    }
   ],
   "source": [
    "data51.head()"
   ]
  },
  {
   "cell_type": "code",
   "execution_count": 64,
   "metadata": {},
   "outputs": [
    {
     "name": "stdout",
     "output_type": "stream",
     "text": [
      "<class 'pandas.core.frame.DataFrame'>\n",
      "Int64Index: 52 entries, 2781 to 3999\n",
      "Data columns (total 6 columns):\n",
      " #   Column            Non-Null Count  Dtype  \n",
      "---  ------            --------------  -----  \n",
      " 0   Service_provider  52 non-null     int64  \n",
      " 1   technology        52 non-null     object \n",
      " 2   Download_Upload   52 non-null     int64  \n",
      " 3   Data_Speed(Kbps)  52 non-null     int64  \n",
      " 4   signal_strength   52 non-null     float64\n",
      " 5   Service_Area      52 non-null     object \n",
      "dtypes: float64(1), int64(3), object(2)\n",
      "memory usage: 2.8+ KB\n"
     ]
    }
   ],
   "source": [
    "data51.info()"
   ]
  },
  {
   "cell_type": "code",
   "execution_count": 65,
   "metadata": {},
   "outputs": [
    {
     "data": {
      "text/html": [
       "<div>\n",
       "<style scoped>\n",
       "    .dataframe tbody tr th:only-of-type {\n",
       "        vertical-align: middle;\n",
       "    }\n",
       "\n",
       "    .dataframe tbody tr th {\n",
       "        vertical-align: top;\n",
       "    }\n",
       "\n",
       "    .dataframe thead th {\n",
       "        text-align: right;\n",
       "    }\n",
       "</style>\n",
       "<table border=\"1\" class=\"dataframe\">\n",
       "  <thead>\n",
       "    <tr style=\"text-align: right;\">\n",
       "      <th></th>\n",
       "      <th>Service_provider</th>\n",
       "      <th>Download_Upload</th>\n",
       "      <th>Data_Speed(Kbps)</th>\n",
       "      <th>signal_strength</th>\n",
       "    </tr>\n",
       "  </thead>\n",
       "  <tbody>\n",
       "    <tr>\n",
       "      <th>count</th>\n",
       "      <td>52.000000</td>\n",
       "      <td>52.0</td>\n",
       "      <td>52.000000</td>\n",
       "      <td>52.000000</td>\n",
       "    </tr>\n",
       "    <tr>\n",
       "      <th>mean</th>\n",
       "      <td>1.038462</td>\n",
       "      <td>1.0</td>\n",
       "      <td>2650.846154</td>\n",
       "      <td>-88.846154</td>\n",
       "    </tr>\n",
       "    <tr>\n",
       "      <th>std</th>\n",
       "      <td>0.277350</td>\n",
       "      <td>0.0</td>\n",
       "      <td>2320.656122</td>\n",
       "      <td>14.643990</td>\n",
       "    </tr>\n",
       "    <tr>\n",
       "      <th>min</th>\n",
       "      <td>1.000000</td>\n",
       "      <td>1.0</td>\n",
       "      <td>23.000000</td>\n",
       "      <td>-109.000000</td>\n",
       "    </tr>\n",
       "    <tr>\n",
       "      <th>25%</th>\n",
       "      <td>1.000000</td>\n",
       "      <td>1.0</td>\n",
       "      <td>796.750000</td>\n",
       "      <td>-101.000000</td>\n",
       "    </tr>\n",
       "    <tr>\n",
       "      <th>50%</th>\n",
       "      <td>1.000000</td>\n",
       "      <td>1.0</td>\n",
       "      <td>1962.500000</td>\n",
       "      <td>-95.000000</td>\n",
       "    </tr>\n",
       "    <tr>\n",
       "      <th>75%</th>\n",
       "      <td>1.000000</td>\n",
       "      <td>1.0</td>\n",
       "      <td>3961.250000</td>\n",
       "      <td>-74.500000</td>\n",
       "    </tr>\n",
       "    <tr>\n",
       "      <th>max</th>\n",
       "      <td>3.000000</td>\n",
       "      <td>1.0</td>\n",
       "      <td>7954.000000</td>\n",
       "      <td>-51.000000</td>\n",
       "    </tr>\n",
       "  </tbody>\n",
       "</table>\n",
       "</div>"
      ],
      "text/plain": [
       "       Service_provider  Download_Upload  Data_Speed(Kbps)  signal_strength\n",
       "count         52.000000             52.0         52.000000        52.000000\n",
       "mean           1.038462              1.0       2650.846154       -88.846154\n",
       "std            0.277350              0.0       2320.656122        14.643990\n",
       "min            1.000000              1.0         23.000000      -109.000000\n",
       "25%            1.000000              1.0        796.750000      -101.000000\n",
       "50%            1.000000              1.0       1962.500000       -95.000000\n",
       "75%            1.000000              1.0       3961.250000       -74.500000\n",
       "max            3.000000              1.0       7954.000000       -51.000000"
      ]
     },
     "execution_count": 65,
     "metadata": {},
     "output_type": "execute_result"
    }
   ],
   "source": [
    "data51.describe()"
   ]
  },
  {
   "cell_type": "code",
   "execution_count": 66,
   "metadata": {},
   "outputs": [
    {
     "data": {
      "text/plain": [
       "2650.846153846154"
      ]
     },
     "execution_count": 66,
     "metadata": {},
     "output_type": "execute_result"
    }
   ],
   "source": [
    "data51['Data_Speed(Kbps)'].mean()"
   ]
  },
  {
   "cell_type": "markdown",
   "metadata": {},
   "source": [
    "#### So mean upload Data_Speed for the records starting from Sno. 2600- 3999 having Service_Area= Delhi where signal_strength is less than 70 is ----> 2650.84"
   ]
  },
  {
   "cell_type": "markdown",
   "metadata": {},
   "source": [
    "------------------------------------------------------------------------"
   ]
  },
  {
   "cell_type": "markdown",
   "metadata": {},
   "source": [
    "Name - Mahaveer Rulaniya\n",
    "email id - mahaveer.iitkgp@gmail.com\n",
    "Contact - +91 6377371776\n",
    "IIT Kharagpur"
   ]
  },
  {
   "cell_type": "code",
   "execution_count": null,
   "metadata": {},
   "outputs": [],
   "source": []
  }
 ],
 "metadata": {
  "kernelspec": {
   "display_name": "Python 3",
   "language": "python",
   "name": "python3"
  },
  "language_info": {
   "codemirror_mode": {
    "name": "ipython",
    "version": 3
   },
   "file_extension": ".py",
   "mimetype": "text/x-python",
   "name": "python",
   "nbconvert_exporter": "python",
   "pygments_lexer": "ipython3",
   "version": "3.6.12"
  }
 },
 "nbformat": 4,
 "nbformat_minor": 4
}
