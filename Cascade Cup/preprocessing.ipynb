{
 "cells": [
  {
   "cell_type": "code",
   "execution_count": 69,
   "metadata": {},
   "outputs": [],
   "source": [
    "import numpy as np\n",
    "import pandas as pd\n",
    "import matplotlib.pyplot as plt\n",
    "%matplotlib inline\n",
    "import seaborn as sns"
   ]
  },
  {
   "cell_type": "code",
   "execution_count": 70,
   "metadata": {},
   "outputs": [],
   "source": [
    "df=pd.read_csv(r'F:\\Chrome Downloads\\CSV files\\train_age_dataset.csv')"
   ]
  },
  {
   "cell_type": "code",
   "execution_count": 71,
   "metadata": {},
   "outputs": [
    {
     "data": {
      "text/html": [
       "<div>\n",
       "<style scoped>\n",
       "    .dataframe tbody tr th:only-of-type {\n",
       "        vertical-align: middle;\n",
       "    }\n",
       "\n",
       "    .dataframe tbody tr th {\n",
       "        vertical-align: top;\n",
       "    }\n",
       "\n",
       "    .dataframe thead th {\n",
       "        text-align: right;\n",
       "    }\n",
       "</style>\n",
       "<table border=\"1\" class=\"dataframe\">\n",
       "  <thead>\n",
       "    <tr style=\"text-align: right;\">\n",
       "      <th></th>\n",
       "      <th>Unnamed: 0</th>\n",
       "      <th>userId</th>\n",
       "      <th>tier</th>\n",
       "      <th>gender</th>\n",
       "      <th>following_rate</th>\n",
       "      <th>followers_avg_age</th>\n",
       "      <th>following_avg_age</th>\n",
       "      <th>max_repetitive_punc</th>\n",
       "      <th>num_of_hashtags_per_action</th>\n",
       "      <th>emoji_count_per_action</th>\n",
       "      <th>...</th>\n",
       "      <th>content_views</th>\n",
       "      <th>num_of_comments</th>\n",
       "      <th>weekends_trails_watched_per_day</th>\n",
       "      <th>weekdays_trails_watched_per_day</th>\n",
       "      <th>slot1_trails_watched_per_day</th>\n",
       "      <th>slot2_trails_watched_per_day</th>\n",
       "      <th>slot3_trails_watched_per_day</th>\n",
       "      <th>slot4_trails_watched_per_day</th>\n",
       "      <th>avgt2</th>\n",
       "      <th>age_group</th>\n",
       "    </tr>\n",
       "  </thead>\n",
       "  <tbody>\n",
       "    <tr>\n",
       "      <th>0</th>\n",
       "      <td>265153</td>\n",
       "      <td>48958844</td>\n",
       "      <td>2</td>\n",
       "      <td>1</td>\n",
       "      <td>0.0</td>\n",
       "      <td>0.0</td>\n",
       "      <td>0.0</td>\n",
       "      <td>0</td>\n",
       "      <td>0.0</td>\n",
       "      <td>0.0</td>\n",
       "      <td>...</td>\n",
       "      <td>0.200000</td>\n",
       "      <td>0.0</td>\n",
       "      <td>0.041667</td>\n",
       "      <td>0.025000</td>\n",
       "      <td>0.0</td>\n",
       "      <td>0.000000</td>\n",
       "      <td>0.175000</td>\n",
       "      <td>0.033333</td>\n",
       "      <td>0.0</td>\n",
       "      <td>1</td>\n",
       "    </tr>\n",
       "    <tr>\n",
       "      <th>1</th>\n",
       "      <td>405231</td>\n",
       "      <td>51100441</td>\n",
       "      <td>2</td>\n",
       "      <td>2</td>\n",
       "      <td>0.0</td>\n",
       "      <td>0.0</td>\n",
       "      <td>0.0</td>\n",
       "      <td>0</td>\n",
       "      <td>0.0</td>\n",
       "      <td>0.0</td>\n",
       "      <td>...</td>\n",
       "      <td>0.093220</td>\n",
       "      <td>0.0</td>\n",
       "      <td>0.012712</td>\n",
       "      <td>0.018644</td>\n",
       "      <td>0.0</td>\n",
       "      <td>0.084746</td>\n",
       "      <td>0.000000</td>\n",
       "      <td>0.033898</td>\n",
       "      <td>82.5</td>\n",
       "      <td>2</td>\n",
       "    </tr>\n",
       "    <tr>\n",
       "      <th>2</th>\n",
       "      <td>57867</td>\n",
       "      <td>6887426</td>\n",
       "      <td>2</td>\n",
       "      <td>1</td>\n",
       "      <td>0.0</td>\n",
       "      <td>0.0</td>\n",
       "      <td>0.0</td>\n",
       "      <td>0</td>\n",
       "      <td>0.0</td>\n",
       "      <td>0.0</td>\n",
       "      <td>...</td>\n",
       "      <td>0.002786</td>\n",
       "      <td>0.0</td>\n",
       "      <td>0.000000</td>\n",
       "      <td>0.000557</td>\n",
       "      <td>0.0</td>\n",
       "      <td>0.002786</td>\n",
       "      <td>0.000000</td>\n",
       "      <td>0.000000</td>\n",
       "      <td>0.0</td>\n",
       "      <td>1</td>\n",
       "    </tr>\n",
       "    <tr>\n",
       "      <th>3</th>\n",
       "      <td>272618</td>\n",
       "      <td>50742404</td>\n",
       "      <td>2</td>\n",
       "      <td>1</td>\n",
       "      <td>0.0</td>\n",
       "      <td>0.0</td>\n",
       "      <td>0.0</td>\n",
       "      <td>0</td>\n",
       "      <td>0.0</td>\n",
       "      <td>0.0</td>\n",
       "      <td>...</td>\n",
       "      <td>0.008403</td>\n",
       "      <td>0.0</td>\n",
       "      <td>0.000000</td>\n",
       "      <td>0.001681</td>\n",
       "      <td>0.0</td>\n",
       "      <td>0.000000</td>\n",
       "      <td>0.000000</td>\n",
       "      <td>0.008403</td>\n",
       "      <td>0.0</td>\n",
       "      <td>1</td>\n",
       "    </tr>\n",
       "    <tr>\n",
       "      <th>4</th>\n",
       "      <td>251123</td>\n",
       "      <td>45589200</td>\n",
       "      <td>2</td>\n",
       "      <td>2</td>\n",
       "      <td>0.0</td>\n",
       "      <td>0.0</td>\n",
       "      <td>0.0</td>\n",
       "      <td>0</td>\n",
       "      <td>0.0</td>\n",
       "      <td>0.0</td>\n",
       "      <td>...</td>\n",
       "      <td>0.204918</td>\n",
       "      <td>0.0</td>\n",
       "      <td>0.000000</td>\n",
       "      <td>0.049180</td>\n",
       "      <td>0.0</td>\n",
       "      <td>0.008197</td>\n",
       "      <td>0.057377</td>\n",
       "      <td>0.180328</td>\n",
       "      <td>0.0</td>\n",
       "      <td>1</td>\n",
       "    </tr>\n",
       "  </tbody>\n",
       "</table>\n",
       "<p>5 rows × 27 columns</p>\n",
       "</div>"
      ],
      "text/plain": [
       "   Unnamed: 0    userId  tier  gender  following_rate  followers_avg_age  \\\n",
       "0      265153  48958844     2       1             0.0                0.0   \n",
       "1      405231  51100441     2       2             0.0                0.0   \n",
       "2       57867   6887426     2       1             0.0                0.0   \n",
       "3      272618  50742404     2       1             0.0                0.0   \n",
       "4      251123  45589200     2       2             0.0                0.0   \n",
       "\n",
       "   following_avg_age  max_repetitive_punc  num_of_hashtags_per_action  \\\n",
       "0                0.0                    0                         0.0   \n",
       "1                0.0                    0                         0.0   \n",
       "2                0.0                    0                         0.0   \n",
       "3                0.0                    0                         0.0   \n",
       "4                0.0                    0                         0.0   \n",
       "\n",
       "   emoji_count_per_action  ...  content_views  num_of_comments  \\\n",
       "0                     0.0  ...       0.200000              0.0   \n",
       "1                     0.0  ...       0.093220              0.0   \n",
       "2                     0.0  ...       0.002786              0.0   \n",
       "3                     0.0  ...       0.008403              0.0   \n",
       "4                     0.0  ...       0.204918              0.0   \n",
       "\n",
       "   weekends_trails_watched_per_day  weekdays_trails_watched_per_day  \\\n",
       "0                         0.041667                         0.025000   \n",
       "1                         0.012712                         0.018644   \n",
       "2                         0.000000                         0.000557   \n",
       "3                         0.000000                         0.001681   \n",
       "4                         0.000000                         0.049180   \n",
       "\n",
       "   slot1_trails_watched_per_day  slot2_trails_watched_per_day  \\\n",
       "0                           0.0                      0.000000   \n",
       "1                           0.0                      0.084746   \n",
       "2                           0.0                      0.002786   \n",
       "3                           0.0                      0.000000   \n",
       "4                           0.0                      0.008197   \n",
       "\n",
       "   slot3_trails_watched_per_day  slot4_trails_watched_per_day  avgt2  \\\n",
       "0                      0.175000                      0.033333    0.0   \n",
       "1                      0.000000                      0.033898   82.5   \n",
       "2                      0.000000                      0.000000    0.0   \n",
       "3                      0.000000                      0.008403    0.0   \n",
       "4                      0.057377                      0.180328    0.0   \n",
       "\n",
       "   age_group  \n",
       "0          1  \n",
       "1          2  \n",
       "2          1  \n",
       "3          1  \n",
       "4          1  \n",
       "\n",
       "[5 rows x 27 columns]"
      ]
     },
     "execution_count": 71,
     "metadata": {},
     "output_type": "execute_result"
    }
   ],
   "source": [
    "df.head()"
   ]
  },
  {
   "cell_type": "code",
   "execution_count": 72,
   "metadata": {},
   "outputs": [],
   "source": [
    "df=df.drop(['Unnamed: 0','userId'],axis=1)"
   ]
  },
  {
   "cell_type": "code",
   "execution_count": 73,
   "metadata": {},
   "outputs": [
    {
     "data": {
      "text/plain": [
       "(488877, 25)"
      ]
     },
     "execution_count": 73,
     "metadata": {},
     "output_type": "execute_result"
    }
   ],
   "source": [
    "df.shape"
   ]
  },
  {
   "cell_type": "code",
   "execution_count": 74,
   "metadata": {},
   "outputs": [
    {
     "data": {
      "text/plain": [
       "tier                               0\n",
       "gender                             0\n",
       "following_rate                     0\n",
       "followers_avg_age                  0\n",
       "following_avg_age                  0\n",
       "max_repetitive_punc                0\n",
       "num_of_hashtags_per_action         0\n",
       "emoji_count_per_action             0\n",
       "punctuations_per_action            0\n",
       "number_of_words_per_action         0\n",
       "avgCompletion                      0\n",
       "avgTimeSpent                       0\n",
       "avgDuration                        0\n",
       "avgComments                        0\n",
       "creations                          0\n",
       "content_views                      0\n",
       "num_of_comments                    0\n",
       "weekends_trails_watched_per_day    0\n",
       "weekdays_trails_watched_per_day    0\n",
       "slot1_trails_watched_per_day       0\n",
       "slot2_trails_watched_per_day       0\n",
       "slot3_trails_watched_per_day       0\n",
       "slot4_trails_watched_per_day       0\n",
       "avgt2                              0\n",
       "age_group                          0\n",
       "dtype: int64"
      ]
     },
     "execution_count": 74,
     "metadata": {},
     "output_type": "execute_result"
    }
   ],
   "source": [
    "df.isnull().sum()"
   ]
  },
  {
   "cell_type": "code",
   "execution_count": null,
   "metadata": {},
   "outputs": [],
   "source": []
  },
  {
   "cell_type": "code",
   "execution_count": 7,
   "metadata": {},
   "outputs": [
    {
     "data": {
      "text/plain": [
       "array([2, 1, 3], dtype=int64)"
      ]
     },
     "execution_count": 7,
     "metadata": {},
     "output_type": "execute_result"
    }
   ],
   "source": [
    "df.tier.unique()"
   ]
  },
  {
   "cell_type": "code",
   "execution_count": 8,
   "metadata": {},
   "outputs": [
    {
     "data": {
      "text/plain": [
       "array([  0.       ,  82.5      , 128.2      , ..., 348.5924171,\n",
       "       211.4117647, 184.88     ])"
      ]
     },
     "execution_count": 8,
     "metadata": {},
     "output_type": "execute_result"
    }
   ],
   "source": [
    "df.avgt2.unique()"
   ]
  },
  {
   "cell_type": "code",
   "execution_count": 9,
   "metadata": {},
   "outputs": [
    {
     "data": {
      "text/plain": [
       "array([0.        , 0.00847458, 0.00787402, ..., 0.01914312, 0.66942149,\n",
       "       0.01328273])"
      ]
     },
     "execution_count": 9,
     "metadata": {},
     "output_type": "execute_result"
    }
   ],
   "source": [
    "df.creations.unique()"
   ]
  },
  {
   "cell_type": "code",
   "execution_count": null,
   "metadata": {},
   "outputs": [],
   "source": []
  },
  {
   "cell_type": "code",
   "execution_count": 10,
   "metadata": {},
   "outputs": [
    {
     "data": {
      "text/plain": [
       "age_group\n",
       "1    0.037488\n",
       "2    0.135835\n",
       "3    0.157764\n",
       "4    0.181761\n",
       "Name: following_rate, dtype: float64"
      ]
     },
     "execution_count": 10,
     "metadata": {},
     "output_type": "execute_result"
    }
   ],
   "source": [
    "df.groupby(['age_group']).following_rate.mean()"
   ]
  },
  {
   "cell_type": "code",
   "execution_count": 11,
   "metadata": {},
   "outputs": [
    {
     "data": {
      "text/plain": [
       "<AxesSubplot:xlabel='age_group', ylabel='following_rate'>"
      ]
     },
     "execution_count": 11,
     "metadata": {},
     "output_type": "execute_result"
    },
    {
     "data": {
      "image/png": "[encoded data removed]",
      "text/plain": [
       "<Figure size 432x288 with 1 Axes>"
      ]
     },
     "metadata": {
      "needs_background": "light"
     },
     "output_type": "display_data"
    }
   ],
   "source": [
    "sns.barplot(x='age_group',y='following_rate',data=df)"
   ]
  },
  {
   "cell_type": "code",
   "execution_count": 12,
   "metadata": {},
   "outputs": [
    {
     "data": {
      "text/plain": [
       "<AxesSubplot:xlabel='age_group', ylabel='followers_avg_age'>"
      ]
     },
     "execution_count": 12,
     "metadata": {},
     "output_type": "execute_result"
    },
    {
     "data": {
      "image/png": "[encoded data removed]",
      "text/plain": [
       "<Figure size 432x288 with 1 Axes>"
      ]
     },
     "metadata": {
      "needs_background": "light"
     },
     "output_type": "display_data"
    }
   ],
   "source": [
    "sns.barplot(x='age_group',y='followers_avg_age',data=df)"
   ]
  },
  {
   "cell_type": "code",
   "execution_count": 13,
   "metadata": {
    "scrolled": true
   },
   "outputs": [
    {
     "data": {
      "text/plain": [
       "<AxesSubplot:xlabel='age_group', ylabel='following_avg_age'>"
      ]
     },
     "execution_count": 13,
     "metadata": {},
     "output_type": "execute_result"
    },
    {
     "data": {
      "image/png": "[encoded data removed]",
      "text/plain": [
       "<Figure size 432x288 with 1 Axes>"
      ]
     },
     "metadata": {
      "needs_background": "light"
     },
     "output_type": "display_data"
    }
   ],
   "source": [
    "sns.barplot(x='age_group',y='following_avg_age',data=df)"
   ]
  },
  {
   "cell_type": "code",
   "execution_count": 36,
   "metadata": {},
   "outputs": [
    {
     "data": {
      "text/plain": [
       "<AxesSubplot:xlabel='age_group', ylabel='follow_avg_age'>"
      ]
     },
     "execution_count": 36,
     "metadata": {},
     "output_type": "execute_result"
    },
    {
     "data": {
      "image/png": "[encoded data removed]",
      "text/plain": [
       "<Figure size 432x288 with 1 Axes>"
      ]
     },
     "metadata": {
      "needs_background": "light"
     },
     "output_type": "display_data"
    }
   ],
   "source": [
    "#sns.barplot(x='age_group',y='follow_avg_age',data=df)"
   ]
  },
  {
   "cell_type": "code",
   "execution_count": 14,
   "metadata": {},
   "outputs": [
    {
     "data": {
      "text/plain": [
       "<AxesSubplot:xlabel='age_group', ylabel='max_repetitive_punc'>"
      ]
     },
     "execution_count": 14,
     "metadata": {},
     "output_type": "execute_result"
    },
    {
     "data": {
      "image/png": "[encoded data removed]",
      "text/plain": [
       "<Figure size 432x288 with 1 Axes>"
      ]
     },
     "metadata": {
      "needs_background": "light"
     },
     "output_type": "display_data"
    }
   ],
   "source": [
    "sns.barplot(x='age_group',y='max_repetitive_punc',data=df)"
   ]
  },
  {
   "cell_type": "code",
   "execution_count": 15,
   "metadata": {},
   "outputs": [
    {
     "data": {
      "text/plain": [
       "<AxesSubplot:xlabel='age_group', ylabel='num_of_hashtags_per_action'>"
      ]
     },
     "execution_count": 15,
     "metadata": {},
     "output_type": "execute_result"
    },
    {
     "data": {
      "image/png": "[encoded data removed]",
      "text/plain": [
       "<Figure size 432x288 with 1 Axes>"
      ]
     },
     "metadata": {
      "needs_background": "light"
     },
     "output_type": "display_data"
    }
   ],
   "source": [
    "sns.barplot(x='age_group',y='num_of_hashtags_per_action',data=df)"
   ]
  },
  {
   "cell_type": "code",
   "execution_count": 16,
   "metadata": {},
   "outputs": [
    {
     "data": {
      "text/plain": [
       "<AxesSubplot:xlabel='age_group', ylabel='emoji_count_per_action'>"
      ]
     },
     "execution_count": 16,
     "metadata": {},
     "output_type": "execute_result"
    },
    {
     "data": {
      "image/png": "[encoded data removed]",
      "text/plain": [
       "<Figure size 432x288 with 1 Axes>"
      ]
     },
     "metadata": {
      "needs_background": "light"
     },
     "output_type": "display_data"
    }
   ],
   "source": [
    "sns.barplot(x='age_group',y='emoji_count_per_action',data=df)"
   ]
  },
  {
   "cell_type": "code",
   "execution_count": 17,
   "metadata": {},
   "outputs": [
    {
     "data": {
      "text/plain": [
       "<AxesSubplot:xlabel='age_group', ylabel='punctuations_per_action'>"
      ]
     },
     "execution_count": 17,
     "metadata": {},
     "output_type": "execute_result"
    },
    {
     "data": {
      "image/png": "[encoded data removed]",
      "text/plain": [
       "<Figure size 432x288 with 1 Axes>"
      ]
     },
     "metadata": {
      "needs_background": "light"
     },
     "output_type": "display_data"
    }
   ],
   "source": [
    "sns.barplot(x='age_group',y='punctuations_per_action',data=df)"
   ]
  },
  {
   "cell_type": "code",
   "execution_count": 18,
   "metadata": {},
   "outputs": [
    {
     "data": {
      "text/plain": [
       "<AxesSubplot:xlabel='age_group', ylabel='number_of_words_per_action'>"
      ]
     },
     "execution_count": 18,
     "metadata": {},
     "output_type": "execute_result"
    },
    {
     "data": {
      "image/png": "[encoded data removed]",
      "text/plain": [
       "<Figure size 432x288 with 1 Axes>"
      ]
     },
     "metadata": {
      "needs_background": "light"
     },
     "output_type": "display_data"
    }
   ],
   "source": [
    "sns.barplot(x='age_group',y='number_of_words_per_action',data=df)"
   ]
  },
  {
   "cell_type": "code",
   "execution_count": 20,
   "metadata": {},
   "outputs": [
    {
     "data": {
      "text/plain": [
       "<AxesSubplot:xlabel='age_group', ylabel='avgCompletion'>"
      ]
     },
     "execution_count": 20,
     "metadata": {},
     "output_type": "execute_result"
    },
    {
     "data": {
      "image/png": "[encoded data removed]",
      "text/plain": [
       "<Figure size 432x288 with 1 Axes>"
      ]
     },
     "metadata": {
      "needs_background": "light"
     },
     "output_type": "display_data"
    }
   ],
   "source": [
    "sns.barplot(x='age_group',y='avgCompletion',data=df)"
   ]
  },
  {
   "cell_type": "code",
   "execution_count": 21,
   "metadata": {},
   "outputs": [
    {
     "data": {
      "text/plain": [
       "<AxesSubplot:xlabel='age_group', ylabel='avgTimeSpent'>"
      ]
     },
     "execution_count": 21,
     "metadata": {},
     "output_type": "execute_result"
    },
    {
     "data": {
      "image/png": "[encoded data removed]",
      "text/plain": [
       "<Figure size 432x288 with 1 Axes>"
      ]
     },
     "metadata": {
      "needs_background": "light"
     },
     "output_type": "display_data"
    }
   ],
   "source": [
    "sns.barplot(x='age_group',y='avgTimeSpent',data=df)"
   ]
  },
  {
   "cell_type": "code",
   "execution_count": 22,
   "metadata": {},
   "outputs": [
    {
     "data": {
      "text/plain": [
       "<AxesSubplot:xlabel='age_group', ylabel='avgDuration'>"
      ]
     },
     "execution_count": 22,
     "metadata": {},
     "output_type": "execute_result"
    },
    {
     "data": {
      "image/png": "[encoded data removed]",
      "text/plain": [
       "<Figure size 432x288 with 1 Axes>"
      ]
     },
     "metadata": {
      "needs_background": "light"
     },
     "output_type": "display_data"
    }
   ],
   "source": [
    "sns.barplot(x='age_group',y='avgDuration',data=df)"
   ]
  },
  {
   "cell_type": "code",
   "execution_count": 23,
   "metadata": {},
   "outputs": [
    {
     "data": {
      "text/plain": [
       "<AxesSubplot:xlabel='age_group', ylabel='avgComments'>"
      ]
     },
     "execution_count": 23,
     "metadata": {},
     "output_type": "execute_result"
    },
    {
     "data": {
      "image/png": "[encoded data removed]",
      "text/plain": [
       "<Figure size 432x288 with 1 Axes>"
      ]
     },
     "metadata": {
      "needs_background": "light"
     },
     "output_type": "display_data"
    }
   ],
   "source": [
    "sns.barplot(x='age_group',y='avgComments',data=df)"
   ]
  },
  {
   "cell_type": "code",
   "execution_count": 24,
   "metadata": {},
   "outputs": [
    {
     "data": {
      "text/plain": [
       "<AxesSubplot:xlabel='age_group', ylabel='creations'>"
      ]
     },
     "execution_count": 24,
     "metadata": {},
     "output_type": "execute_result"
    },
    {
     "data": {
      "image/png": "[encoded data removed]",
      "text/plain": [
       "<Figure size 432x288 with 1 Axes>"
      ]
     },
     "metadata": {
      "needs_background": "light"
     },
     "output_type": "display_data"
    }
   ],
   "source": [
    "sns.barplot(x='age_group',y='creations',data=df)"
   ]
  },
  {
   "cell_type": "code",
   "execution_count": 25,
   "metadata": {},
   "outputs": [
    {
     "data": {
      "text/plain": [
       "<AxesSubplot:xlabel='age_group', ylabel='content_views'>"
      ]
     },
     "execution_count": 25,
     "metadata": {},
     "output_type": "execute_result"
    },
    {
     "data": {
      "image/png": "[encoded data removed]",
      "text/plain": [
       "<Figure size 432x288 with 1 Axes>"
      ]
     },
     "metadata": {
      "needs_background": "light"
     },
     "output_type": "display_data"
    }
   ],
   "source": [
    "sns.barplot(x='age_group',y='content_views',data=df)"
   ]
  },
  {
   "cell_type": "code",
   "execution_count": 26,
   "metadata": {},
   "outputs": [
    {
     "data": {
      "text/plain": [
       "<AxesSubplot:xlabel='age_group', ylabel='num_of_comments'>"
      ]
     },
     "execution_count": 26,
     "metadata": {},
     "output_type": "execute_result"
    },
    {
     "data": {
      "image/png": "[encoded data removed]",
      "text/plain": [
       "<Figure size 432x288 with 1 Axes>"
      ]
     },
     "metadata": {
      "needs_background": "light"
     },
     "output_type": "display_data"
    }
   ],
   "source": [
    "sns.barplot(x='age_group',y='num_of_comments',data=df)"
   ]
  },
  {
   "cell_type": "code",
   "execution_count": 27,
   "metadata": {},
   "outputs": [
    {
     "data": {
      "text/plain": [
       "<AxesSubplot:xlabel='age_group', ylabel='weekends_trails_watched_per_day'>"
      ]
     },
     "execution_count": 27,
     "metadata": {},
     "output_type": "execute_result"
    },
    {
     "data": {
      "image/png": "[encoded data removed]",
      "text/plain": [
       "<Figure size 432x288 with 1 Axes>"
      ]
     },
     "metadata": {
      "needs_background": "light"
     },
     "output_type": "display_data"
    }
   ],
   "source": [
    "sns.barplot(x='age_group',y='weekends_trails_watched_per_day',data=df)"
   ]
  },
  {
   "cell_type": "code",
   "execution_count": 28,
   "metadata": {},
   "outputs": [
    {
     "data": {
      "text/plain": [
       "<AxesSubplot:xlabel='age_group', ylabel='weekdays_trails_watched_per_day'>"
      ]
     },
     "execution_count": 28,
     "metadata": {},
     "output_type": "execute_result"
    },
    {
     "data": {
      "image/png": "[encoded data removed]",
      "text/plain": [
       "<Figure size 432x288 with 1 Axes>"
      ]
     },
     "metadata": {
      "needs_background": "light"
     },
     "output_type": "display_data"
    }
   ],
   "source": [
    "sns.barplot(x='age_group',y='weekdays_trails_watched_per_day',data=df)"
   ]
  },
  {
   "cell_type": "code",
   "execution_count": 29,
   "metadata": {},
   "outputs": [
    {
     "data": {
      "text/plain": [
       "<AxesSubplot:xlabel='age_group', ylabel='slot1_trails_watched_per_day'>"
      ]
     },
     "execution_count": 29,
     "metadata": {},
     "output_type": "execute_result"
    },
    {
     "data": {
      "image/png": "[encoded data removed]",
      "text/plain": [
       "<Figure size 432x288 with 1 Axes>"
      ]
     },
     "metadata": {
      "needs_background": "light"
     },
     "output_type": "display_data"
    }
   ],
   "source": [
    "sns.barplot(x='age_group',y='slot1_trails_watched_per_day',data=df)"
   ]
  },
  {
   "cell_type": "code",
   "execution_count": 30,
   "metadata": {},
   "outputs": [
    {
     "data": {
      "text/plain": [
       "<AxesSubplot:xlabel='age_group', ylabel='slot2_trails_watched_per_day'>"
      ]
     },
     "execution_count": 30,
     "metadata": {},
     "output_type": "execute_result"
    },
    {
     "data": {
      "image/png": "[encoded data removed]",
      "text/plain": [
       "<Figure size 432x288 with 1 Axes>"
      ]
     },
     "metadata": {
      "needs_background": "light"
     },
     "output_type": "display_data"
    }
   ],
   "source": [
    "sns.barplot(x='age_group',y='slot2_trails_watched_per_day',data=df)"
   ]
  },
  {
   "cell_type": "code",
   "execution_count": 31,
   "metadata": {},
   "outputs": [
    {
     "data": {
      "text/plain": [
       "<AxesSubplot:xlabel='age_group', ylabel='slot3_trails_watched_per_day'>"
      ]
     },
     "execution_count": 31,
     "metadata": {},
     "output_type": "execute_result"
    },
    {
     "data": {
      "image/png": "[encoded data removed]",
      "text/plain": [
       "<Figure size 432x288 with 1 Axes>"
      ]
     },
     "metadata": {
      "needs_background": "light"
     },
     "output_type": "display_data"
    }
   ],
   "source": [
    "sns.barplot(x='age_group',y='slot3_trails_watched_per_day',data=df)"
   ]
  },
  {
   "cell_type": "code",
   "execution_count": 32,
   "metadata": {},
   "outputs": [
    {
     "data": {
      "text/plain": [
       "<AxesSubplot:xlabel='age_group', ylabel='slot4_trails_watched_per_day'>"
      ]
     },
     "execution_count": 32,
     "metadata": {},
     "output_type": "execute_result"
    },
    {
     "data": {
      "image/png": "[encoded data removed]",
      "text/plain": [
       "<Figure size 432x288 with 1 Axes>"
      ]
     },
     "metadata": {
      "needs_background": "light"
     },
     "output_type": "display_data"
    }
   ],
   "source": [
    "sns.barplot(x='age_group',y='slot4_trails_watched_per_day',data=df)"
   ]
  },
  {
   "cell_type": "code",
   "execution_count": null,
   "metadata": {},
   "outputs": [],
   "source": []
  },
  {
   "cell_type": "code",
   "execution_count": 33,
   "metadata": {},
   "outputs": [
    {
     "data": {
      "text/plain": [
       "<AxesSubplot:xlabel='age_group', ylabel='avgt2'>"
      ]
     },
     "execution_count": 33,
     "metadata": {},
     "output_type": "execute_result"
    },
    {
     "data": {
      "image/png": "[encoded data removed]",
      "text/plain": [
       "<Figure size 432x288 with 1 Axes>"
      ]
     },
     "metadata": {
      "needs_background": "light"
     },
     "output_type": "display_data"
    }
   ],
   "source": [
    "sns.barplot(x='age_group',y='avgt2',data=df)"
   ]
  },
  {
   "cell_type": "code",
   "execution_count": null,
   "metadata": {},
   "outputs": [],
   "source": []
  },
  {
   "cell_type": "code",
   "execution_count": 34,
   "metadata": {},
   "outputs": [
    {
     "data": {
      "text/html": [
       "<div>\n",
       "<style scoped>\n",
       "    .dataframe tbody tr th:only-of-type {\n",
       "        vertical-align: middle;\n",
       "    }\n",
       "\n",
       "    .dataframe tbody tr th {\n",
       "        vertical-align: top;\n",
       "    }\n",
       "\n",
       "    .dataframe thead th {\n",
       "        text-align: right;\n",
       "    }\n",
       "</style>\n",
       "<table border=\"1\" class=\"dataframe\">\n",
       "  <thead>\n",
       "    <tr style=\"text-align: right;\">\n",
       "      <th></th>\n",
       "      <th>0</th>\n",
       "      <th>1</th>\n",
       "      <th>2</th>\n",
       "      <th>3</th>\n",
       "      <th>4</th>\n",
       "      <th>5</th>\n",
       "      <th>6</th>\n",
       "      <th>7</th>\n",
       "      <th>8</th>\n",
       "      <th>9</th>\n",
       "      <th>...</th>\n",
       "      <th>488867</th>\n",
       "      <th>488868</th>\n",
       "      <th>488869</th>\n",
       "      <th>488870</th>\n",
       "      <th>488871</th>\n",
       "      <th>488872</th>\n",
       "      <th>488873</th>\n",
       "      <th>488874</th>\n",
       "      <th>488875</th>\n",
       "      <th>488876</th>\n",
       "    </tr>\n",
       "  </thead>\n",
       "  <tbody>\n",
       "    <tr>\n",
       "      <th>tier</th>\n",
       "      <td>2.000000</td>\n",
       "      <td>2.000000</td>\n",
       "      <td>2.000000</td>\n",
       "      <td>2.000000</td>\n",
       "      <td>2.000000</td>\n",
       "      <td>2.000000</td>\n",
       "      <td>1.000000</td>\n",
       "      <td>1.000000</td>\n",
       "      <td>2.000000</td>\n",
       "      <td>2.000000</td>\n",
       "      <td>...</td>\n",
       "      <td>2.000000</td>\n",
       "      <td>2.000000</td>\n",
       "      <td>2.000000</td>\n",
       "      <td>1.000000</td>\n",
       "      <td>2.000000</td>\n",
       "      <td>2.000000</td>\n",
       "      <td>1.000000</td>\n",
       "      <td>1.000000</td>\n",
       "      <td>2.000000</td>\n",
       "      <td>2.000000</td>\n",
       "    </tr>\n",
       "    <tr>\n",
       "      <th>gender</th>\n",
       "      <td>1.000000</td>\n",
       "      <td>2.000000</td>\n",
       "      <td>1.000000</td>\n",
       "      <td>1.000000</td>\n",
       "      <td>2.000000</td>\n",
       "      <td>1.000000</td>\n",
       "      <td>1.000000</td>\n",
       "      <td>2.000000</td>\n",
       "      <td>1.000000</td>\n",
       "      <td>1.000000</td>\n",
       "      <td>...</td>\n",
       "      <td>1.000000</td>\n",
       "      <td>2.000000</td>\n",
       "      <td>1.000000</td>\n",
       "      <td>1.000000</td>\n",
       "      <td>2.000000</td>\n",
       "      <td>2.000000</td>\n",
       "      <td>1.000000</td>\n",
       "      <td>1.000000</td>\n",
       "      <td>1.000000</td>\n",
       "      <td>1.000000</td>\n",
       "    </tr>\n",
       "    <tr>\n",
       "      <th>following_rate</th>\n",
       "      <td>0.000000</td>\n",
       "      <td>0.000000</td>\n",
       "      <td>0.000000</td>\n",
       "      <td>0.000000</td>\n",
       "      <td>0.000000</td>\n",
       "      <td>0.000000</td>\n",
       "      <td>0.000000</td>\n",
       "      <td>0.000000</td>\n",
       "      <td>0.013245</td>\n",
       "      <td>0.000000</td>\n",
       "      <td>...</td>\n",
       "      <td>0.000000</td>\n",
       "      <td>0.000000</td>\n",
       "      <td>0.000000</td>\n",
       "      <td>0.103175</td>\n",
       "      <td>0.000000</td>\n",
       "      <td>0.000000</td>\n",
       "      <td>0.017241</td>\n",
       "      <td>0.229508</td>\n",
       "      <td>0.000000</td>\n",
       "      <td>0.000000</td>\n",
       "    </tr>\n",
       "    <tr>\n",
       "      <th>followers_avg_age</th>\n",
       "      <td>0.000000</td>\n",
       "      <td>0.000000</td>\n",
       "      <td>0.000000</td>\n",
       "      <td>0.000000</td>\n",
       "      <td>0.000000</td>\n",
       "      <td>0.000000</td>\n",
       "      <td>0.000000</td>\n",
       "      <td>0.000000</td>\n",
       "      <td>0.000000</td>\n",
       "      <td>0.000000</td>\n",
       "      <td>...</td>\n",
       "      <td>0.000000</td>\n",
       "      <td>0.000000</td>\n",
       "      <td>0.000000</td>\n",
       "      <td>1.875000</td>\n",
       "      <td>0.000000</td>\n",
       "      <td>0.000000</td>\n",
       "      <td>0.000000</td>\n",
       "      <td>1.625000</td>\n",
       "      <td>0.000000</td>\n",
       "      <td>0.000000</td>\n",
       "    </tr>\n",
       "    <tr>\n",
       "      <th>following_avg_age</th>\n",
       "      <td>0.000000</td>\n",
       "      <td>0.000000</td>\n",
       "      <td>0.000000</td>\n",
       "      <td>0.000000</td>\n",
       "      <td>0.000000</td>\n",
       "      <td>0.000000</td>\n",
       "      <td>0.000000</td>\n",
       "      <td>0.000000</td>\n",
       "      <td>0.000000</td>\n",
       "      <td>0.000000</td>\n",
       "      <td>...</td>\n",
       "      <td>0.000000</td>\n",
       "      <td>0.000000</td>\n",
       "      <td>0.000000</td>\n",
       "      <td>2.333333</td>\n",
       "      <td>0.000000</td>\n",
       "      <td>0.000000</td>\n",
       "      <td>0.000000</td>\n",
       "      <td>2.250000</td>\n",
       "      <td>0.000000</td>\n",
       "      <td>0.000000</td>\n",
       "    </tr>\n",
       "    <tr>\n",
       "      <th>max_repetitive_punc</th>\n",
       "      <td>0.000000</td>\n",
       "      <td>0.000000</td>\n",
       "      <td>0.000000</td>\n",
       "      <td>0.000000</td>\n",
       "      <td>0.000000</td>\n",
       "      <td>0.000000</td>\n",
       "      <td>0.000000</td>\n",
       "      <td>0.000000</td>\n",
       "      <td>0.000000</td>\n",
       "      <td>0.000000</td>\n",
       "      <td>...</td>\n",
       "      <td>0.000000</td>\n",
       "      <td>0.000000</td>\n",
       "      <td>0.000000</td>\n",
       "      <td>0.000000</td>\n",
       "      <td>0.000000</td>\n",
       "      <td>0.000000</td>\n",
       "      <td>0.000000</td>\n",
       "      <td>0.000000</td>\n",
       "      <td>0.000000</td>\n",
       "      <td>0.000000</td>\n",
       "    </tr>\n",
       "    <tr>\n",
       "      <th>num_of_hashtags_per_action</th>\n",
       "      <td>0.000000</td>\n",
       "      <td>0.000000</td>\n",
       "      <td>0.000000</td>\n",
       "      <td>0.000000</td>\n",
       "      <td>0.000000</td>\n",
       "      <td>0.000000</td>\n",
       "      <td>0.000000</td>\n",
       "      <td>0.000000</td>\n",
       "      <td>0.000000</td>\n",
       "      <td>0.000000</td>\n",
       "      <td>...</td>\n",
       "      <td>0.000000</td>\n",
       "      <td>0.000000</td>\n",
       "      <td>0.000000</td>\n",
       "      <td>0.000000</td>\n",
       "      <td>0.000000</td>\n",
       "      <td>0.000000</td>\n",
       "      <td>0.000000</td>\n",
       "      <td>0.000000</td>\n",
       "      <td>0.000000</td>\n",
       "      <td>0.000000</td>\n",
       "    </tr>\n",
       "    <tr>\n",
       "      <th>emoji_count_per_action</th>\n",
       "      <td>0.000000</td>\n",
       "      <td>0.000000</td>\n",
       "      <td>0.000000</td>\n",
       "      <td>0.000000</td>\n",
       "      <td>0.000000</td>\n",
       "      <td>0.000000</td>\n",
       "      <td>0.000000</td>\n",
       "      <td>0.000000</td>\n",
       "      <td>0.000000</td>\n",
       "      <td>0.000000</td>\n",
       "      <td>...</td>\n",
       "      <td>0.000000</td>\n",
       "      <td>0.000000</td>\n",
       "      <td>0.000000</td>\n",
       "      <td>0.000000</td>\n",
       "      <td>0.000000</td>\n",
       "      <td>0.000000</td>\n",
       "      <td>0.000000</td>\n",
       "      <td>0.000000</td>\n",
       "      <td>0.000000</td>\n",
       "      <td>0.000000</td>\n",
       "    </tr>\n",
       "    <tr>\n",
       "      <th>punctuations_per_action</th>\n",
       "      <td>0.000000</td>\n",
       "      <td>0.076923</td>\n",
       "      <td>0.000000</td>\n",
       "      <td>0.000000</td>\n",
       "      <td>0.000000</td>\n",
       "      <td>0.000000</td>\n",
       "      <td>0.000000</td>\n",
       "      <td>0.000000</td>\n",
       "      <td>0.000000</td>\n",
       "      <td>0.000000</td>\n",
       "      <td>...</td>\n",
       "      <td>0.000000</td>\n",
       "      <td>0.000000</td>\n",
       "      <td>0.000000</td>\n",
       "      <td>0.000000</td>\n",
       "      <td>0.000000</td>\n",
       "      <td>0.000000</td>\n",
       "      <td>0.000000</td>\n",
       "      <td>0.000000</td>\n",
       "      <td>0.000000</td>\n",
       "      <td>0.000000</td>\n",
       "    </tr>\n",
       "    <tr>\n",
       "      <th>number_of_words_per_action</th>\n",
       "      <td>0.000000</td>\n",
       "      <td>0.153846</td>\n",
       "      <td>0.000000</td>\n",
       "      <td>0.000000</td>\n",
       "      <td>0.000000</td>\n",
       "      <td>0.000000</td>\n",
       "      <td>0.166667</td>\n",
       "      <td>0.500000</td>\n",
       "      <td>0.008955</td>\n",
       "      <td>0.000000</td>\n",
       "      <td>...</td>\n",
       "      <td>0.000000</td>\n",
       "      <td>0.000000</td>\n",
       "      <td>0.000000</td>\n",
       "      <td>0.109091</td>\n",
       "      <td>0.000000</td>\n",
       "      <td>0.300000</td>\n",
       "      <td>0.012195</td>\n",
       "      <td>0.094340</td>\n",
       "      <td>0.000000</td>\n",
       "      <td>0.000000</td>\n",
       "    </tr>\n",
       "    <tr>\n",
       "      <th>avgCompletion</th>\n",
       "      <td>0.463330</td>\n",
       "      <td>0.429468</td>\n",
       "      <td>0.341657</td>\n",
       "      <td>0.005735</td>\n",
       "      <td>0.456549</td>\n",
       "      <td>0.306116</td>\n",
       "      <td>0.150989</td>\n",
       "      <td>0.075048</td>\n",
       "      <td>0.182755</td>\n",
       "      <td>0.421390</td>\n",
       "      <td>...</td>\n",
       "      <td>0.278309</td>\n",
       "      <td>0.158062</td>\n",
       "      <td>0.307646</td>\n",
       "      <td>0.223827</td>\n",
       "      <td>0.615949</td>\n",
       "      <td>0.422837</td>\n",
       "      <td>0.668494</td>\n",
       "      <td>0.579213</td>\n",
       "      <td>0.221303</td>\n",
       "      <td>0.253091</td>\n",
       "    </tr>\n",
       "    <tr>\n",
       "      <th>avgTimeSpent</th>\n",
       "      <td>34.160000</td>\n",
       "      <td>15.285714</td>\n",
       "      <td>22.000000</td>\n",
       "      <td>3.000000</td>\n",
       "      <td>12.333333</td>\n",
       "      <td>7.200000</td>\n",
       "      <td>6.700000</td>\n",
       "      <td>2.625000</td>\n",
       "      <td>8.255385</td>\n",
       "      <td>8.285714</td>\n",
       "      <td>...</td>\n",
       "      <td>4.600000</td>\n",
       "      <td>3.545455</td>\n",
       "      <td>6.750000</td>\n",
       "      <td>33.859155</td>\n",
       "      <td>13.326923</td>\n",
       "      <td>8.714286</td>\n",
       "      <td>35.662921</td>\n",
       "      <td>13.444444</td>\n",
       "      <td>9.578947</td>\n",
       "      <td>3.142857</td>\n",
       "    </tr>\n",
       "    <tr>\n",
       "      <th>avgDuration</th>\n",
       "      <td>53.996091</td>\n",
       "      <td>96.231625</td>\n",
       "      <td>83.051415</td>\n",
       "      <td>523.080000</td>\n",
       "      <td>53.766640</td>\n",
       "      <td>31.369556</td>\n",
       "      <td>127.402333</td>\n",
       "      <td>239.236667</td>\n",
       "      <td>40.811707</td>\n",
       "      <td>40.277000</td>\n",
       "      <td>...</td>\n",
       "      <td>23.096000</td>\n",
       "      <td>52.297273</td>\n",
       "      <td>97.706000</td>\n",
       "      <td>76.140158</td>\n",
       "      <td>20.857065</td>\n",
       "      <td>56.783167</td>\n",
       "      <td>69.031216</td>\n",
       "      <td>50.611380</td>\n",
       "      <td>131.188182</td>\n",
       "      <td>10.550500</td>\n",
       "    </tr>\n",
       "    <tr>\n",
       "      <th>avgComments</th>\n",
       "      <td>0.000000</td>\n",
       "      <td>0.000000</td>\n",
       "      <td>0.000000</td>\n",
       "      <td>0.000000</td>\n",
       "      <td>0.000000</td>\n",
       "      <td>0.000000</td>\n",
       "      <td>0.000000</td>\n",
       "      <td>0.000000</td>\n",
       "      <td>0.000000</td>\n",
       "      <td>0.000000</td>\n",
       "      <td>...</td>\n",
       "      <td>0.000000</td>\n",
       "      <td>0.000000</td>\n",
       "      <td>0.000000</td>\n",
       "      <td>0.000000</td>\n",
       "      <td>0.000000</td>\n",
       "      <td>0.000000</td>\n",
       "      <td>2.000000</td>\n",
       "      <td>0.000000</td>\n",
       "      <td>0.000000</td>\n",
       "      <td>0.000000</td>\n",
       "    </tr>\n",
       "    <tr>\n",
       "      <th>creations</th>\n",
       "      <td>0.000000</td>\n",
       "      <td>0.008475</td>\n",
       "      <td>0.000000</td>\n",
       "      <td>0.000000</td>\n",
       "      <td>0.000000</td>\n",
       "      <td>0.000000</td>\n",
       "      <td>0.007874</td>\n",
       "      <td>0.007874</td>\n",
       "      <td>0.009934</td>\n",
       "      <td>0.000000</td>\n",
       "      <td>...</td>\n",
       "      <td>0.000000</td>\n",
       "      <td>0.000000</td>\n",
       "      <td>0.000000</td>\n",
       "      <td>0.023810</td>\n",
       "      <td>0.000000</td>\n",
       "      <td>0.008000</td>\n",
       "      <td>0.051724</td>\n",
       "      <td>0.016393</td>\n",
       "      <td>0.000000</td>\n",
       "      <td>0.000000</td>\n",
       "    </tr>\n",
       "    <tr>\n",
       "      <th>content_views</th>\n",
       "      <td>0.200000</td>\n",
       "      <td>0.093220</td>\n",
       "      <td>0.002786</td>\n",
       "      <td>0.008403</td>\n",
       "      <td>0.204918</td>\n",
       "      <td>0.072581</td>\n",
       "      <td>0.078740</td>\n",
       "      <td>0.047244</td>\n",
       "      <td>1.096026</td>\n",
       "      <td>0.067961</td>\n",
       "      <td>...</td>\n",
       "      <td>0.040650</td>\n",
       "      <td>0.092437</td>\n",
       "      <td>0.055556</td>\n",
       "      <td>0.404762</td>\n",
       "      <td>0.571429</td>\n",
       "      <td>0.064000</td>\n",
       "      <td>2.043103</td>\n",
       "      <td>0.409836</td>\n",
       "      <td>0.113821</td>\n",
       "      <td>0.073171</td>\n",
       "    </tr>\n",
       "    <tr>\n",
       "      <th>num_of_comments</th>\n",
       "      <td>0.000000</td>\n",
       "      <td>0.000000</td>\n",
       "      <td>0.000000</td>\n",
       "      <td>0.000000</td>\n",
       "      <td>0.000000</td>\n",
       "      <td>0.000000</td>\n",
       "      <td>0.000000</td>\n",
       "      <td>0.000000</td>\n",
       "      <td>0.000000</td>\n",
       "      <td>0.000000</td>\n",
       "      <td>...</td>\n",
       "      <td>0.000000</td>\n",
       "      <td>0.000000</td>\n",
       "      <td>0.000000</td>\n",
       "      <td>0.000000</td>\n",
       "      <td>0.000000</td>\n",
       "      <td>0.000000</td>\n",
       "      <td>0.017241</td>\n",
       "      <td>0.000000</td>\n",
       "      <td>0.000000</td>\n",
       "      <td>0.000000</td>\n",
       "    </tr>\n",
       "    <tr>\n",
       "      <th>weekends_trails_watched_per_day</th>\n",
       "      <td>0.041667</td>\n",
       "      <td>0.012712</td>\n",
       "      <td>0.000000</td>\n",
       "      <td>0.000000</td>\n",
       "      <td>0.000000</td>\n",
       "      <td>0.080645</td>\n",
       "      <td>0.000000</td>\n",
       "      <td>0.031496</td>\n",
       "      <td>0.000000</td>\n",
       "      <td>0.009709</td>\n",
       "      <td>...</td>\n",
       "      <td>0.000000</td>\n",
       "      <td>0.000000</td>\n",
       "      <td>0.000000</td>\n",
       "      <td>0.115079</td>\n",
       "      <td>0.000000</td>\n",
       "      <td>0.012000</td>\n",
       "      <td>0.301724</td>\n",
       "      <td>0.000000</td>\n",
       "      <td>0.000000</td>\n",
       "      <td>0.000000</td>\n",
       "    </tr>\n",
       "    <tr>\n",
       "      <th>weekdays_trails_watched_per_day</th>\n",
       "      <td>0.025000</td>\n",
       "      <td>0.018644</td>\n",
       "      <td>0.000557</td>\n",
       "      <td>0.001681</td>\n",
       "      <td>0.049180</td>\n",
       "      <td>0.000000</td>\n",
       "      <td>0.015748</td>\n",
       "      <td>0.000000</td>\n",
       "      <td>0.215232</td>\n",
       "      <td>0.009709</td>\n",
       "      <td>...</td>\n",
       "      <td>0.008130</td>\n",
       "      <td>0.018487</td>\n",
       "      <td>0.012698</td>\n",
       "      <td>0.066667</td>\n",
       "      <td>0.123810</td>\n",
       "      <td>0.006400</td>\n",
       "      <td>0.339655</td>\n",
       "      <td>0.118033</td>\n",
       "      <td>0.030894</td>\n",
       "      <td>0.011382</td>\n",
       "    </tr>\n",
       "    <tr>\n",
       "      <th>slot1_trails_watched_per_day</th>\n",
       "      <td>0.000000</td>\n",
       "      <td>0.000000</td>\n",
       "      <td>0.000000</td>\n",
       "      <td>0.000000</td>\n",
       "      <td>0.000000</td>\n",
       "      <td>0.000000</td>\n",
       "      <td>0.070866</td>\n",
       "      <td>0.000000</td>\n",
       "      <td>0.195364</td>\n",
       "      <td>0.000000</td>\n",
       "      <td>...</td>\n",
       "      <td>0.000000</td>\n",
       "      <td>0.092437</td>\n",
       "      <td>0.000000</td>\n",
       "      <td>0.000000</td>\n",
       "      <td>0.000000</td>\n",
       "      <td>0.000000</td>\n",
       "      <td>0.068966</td>\n",
       "      <td>0.000000</td>\n",
       "      <td>0.000000</td>\n",
       "      <td>0.000000</td>\n",
       "    </tr>\n",
       "    <tr>\n",
       "      <th>slot2_trails_watched_per_day</th>\n",
       "      <td>0.000000</td>\n",
       "      <td>0.084746</td>\n",
       "      <td>0.002786</td>\n",
       "      <td>0.000000</td>\n",
       "      <td>0.008197</td>\n",
       "      <td>0.000000</td>\n",
       "      <td>0.000000</td>\n",
       "      <td>0.062992</td>\n",
       "      <td>0.149007</td>\n",
       "      <td>0.038835</td>\n",
       "      <td>...</td>\n",
       "      <td>0.000000</td>\n",
       "      <td>0.000000</td>\n",
       "      <td>0.000000</td>\n",
       "      <td>0.261905</td>\n",
       "      <td>0.000000</td>\n",
       "      <td>0.008000</td>\n",
       "      <td>0.922414</td>\n",
       "      <td>0.049180</td>\n",
       "      <td>0.024390</td>\n",
       "      <td>0.000000</td>\n",
       "    </tr>\n",
       "    <tr>\n",
       "      <th>slot3_trails_watched_per_day</th>\n",
       "      <td>0.175000</td>\n",
       "      <td>0.000000</td>\n",
       "      <td>0.000000</td>\n",
       "      <td>0.000000</td>\n",
       "      <td>0.057377</td>\n",
       "      <td>0.000000</td>\n",
       "      <td>0.007874</td>\n",
       "      <td>0.000000</td>\n",
       "      <td>0.125828</td>\n",
       "      <td>0.009709</td>\n",
       "      <td>...</td>\n",
       "      <td>0.040650</td>\n",
       "      <td>0.000000</td>\n",
       "      <td>0.000000</td>\n",
       "      <td>0.269841</td>\n",
       "      <td>0.619048</td>\n",
       "      <td>0.000000</td>\n",
       "      <td>0.137931</td>\n",
       "      <td>0.237705</td>\n",
       "      <td>0.130081</td>\n",
       "      <td>0.056911</td>\n",
       "    </tr>\n",
       "    <tr>\n",
       "      <th>slot4_trails_watched_per_day</th>\n",
       "      <td>0.033333</td>\n",
       "      <td>0.033898</td>\n",
       "      <td>0.000000</td>\n",
       "      <td>0.008403</td>\n",
       "      <td>0.180328</td>\n",
       "      <td>0.161290</td>\n",
       "      <td>0.000000</td>\n",
       "      <td>0.000000</td>\n",
       "      <td>0.605960</td>\n",
       "      <td>0.019417</td>\n",
       "      <td>...</td>\n",
       "      <td>0.000000</td>\n",
       "      <td>0.000000</td>\n",
       "      <td>0.063492</td>\n",
       "      <td>0.031746</td>\n",
       "      <td>0.000000</td>\n",
       "      <td>0.048000</td>\n",
       "      <td>1.172414</td>\n",
       "      <td>0.303279</td>\n",
       "      <td>0.000000</td>\n",
       "      <td>0.000000</td>\n",
       "    </tr>\n",
       "    <tr>\n",
       "      <th>avgt2</th>\n",
       "      <td>0.000000</td>\n",
       "      <td>82.500000</td>\n",
       "      <td>0.000000</td>\n",
       "      <td>0.000000</td>\n",
       "      <td>0.000000</td>\n",
       "      <td>0.000000</td>\n",
       "      <td>128.200000</td>\n",
       "      <td>184.781250</td>\n",
       "      <td>155.562500</td>\n",
       "      <td>0.000000</td>\n",
       "      <td>...</td>\n",
       "      <td>0.000000</td>\n",
       "      <td>0.000000</td>\n",
       "      <td>0.000000</td>\n",
       "      <td>211.411765</td>\n",
       "      <td>0.000000</td>\n",
       "      <td>195.000000</td>\n",
       "      <td>188.742857</td>\n",
       "      <td>184.880000</td>\n",
       "      <td>0.000000</td>\n",
       "      <td>0.000000</td>\n",
       "    </tr>\n",
       "    <tr>\n",
       "      <th>age_group</th>\n",
       "      <td>1.000000</td>\n",
       "      <td>2.000000</td>\n",
       "      <td>1.000000</td>\n",
       "      <td>1.000000</td>\n",
       "      <td>1.000000</td>\n",
       "      <td>1.000000</td>\n",
       "      <td>1.000000</td>\n",
       "      <td>3.000000</td>\n",
       "      <td>4.000000</td>\n",
       "      <td>1.000000</td>\n",
       "      <td>...</td>\n",
       "      <td>1.000000</td>\n",
       "      <td>1.000000</td>\n",
       "      <td>1.000000</td>\n",
       "      <td>3.000000</td>\n",
       "      <td>1.000000</td>\n",
       "      <td>1.000000</td>\n",
       "      <td>4.000000</td>\n",
       "      <td>4.000000</td>\n",
       "      <td>1.000000</td>\n",
       "      <td>1.000000</td>\n",
       "    </tr>\n",
       "  </tbody>\n",
       "</table>\n",
       "<p>25 rows × 488877 columns</p>\n",
       "</div>"
      ],
      "text/plain": [
       "                                    0          1          2           3       \\\n",
       "tier                              2.000000   2.000000   2.000000    2.000000   \n",
       "gender                            1.000000   2.000000   1.000000    1.000000   \n",
       "following_rate                    0.000000   0.000000   0.000000    0.000000   \n",
       "followers_avg_age                 0.000000   0.000000   0.000000    0.000000   \n",
       "following_avg_age                 0.000000   0.000000   0.000000    0.000000   \n",
       "max_repetitive_punc               0.000000   0.000000   0.000000    0.000000   \n",
       "num_of_hashtags_per_action        0.000000   0.000000   0.000000    0.000000   \n",
       "emoji_count_per_action            0.000000   0.000000   0.000000    0.000000   \n",
       "punctuations_per_action           0.000000   0.076923   0.000000    0.000000   \n",
       "number_of_words_per_action        0.000000   0.153846   0.000000    0.000000   \n",
       "avgCompletion                     0.463330   0.429468   0.341657    0.005735   \n",
       "avgTimeSpent                     34.160000  15.285714  22.000000    3.000000   \n",
       "avgDuration                      53.996091  96.231625  83.051415  523.080000   \n",
       "avgComments                       0.000000   0.000000   0.000000    0.000000   \n",
       "creations                         0.000000   0.008475   0.000000    0.000000   \n",
       "content_views                     0.200000   0.093220   0.002786    0.008403   \n",
       "num_of_comments                   0.000000   0.000000   0.000000    0.000000   \n",
       "weekends_trails_watched_per_day   0.041667   0.012712   0.000000    0.000000   \n",
       "weekdays_trails_watched_per_day   0.025000   0.018644   0.000557    0.001681   \n",
       "slot1_trails_watched_per_day      0.000000   0.000000   0.000000    0.000000   \n",
       "slot2_trails_watched_per_day      0.000000   0.084746   0.002786    0.000000   \n",
       "slot3_trails_watched_per_day      0.175000   0.000000   0.000000    0.000000   \n",
       "slot4_trails_watched_per_day      0.033333   0.033898   0.000000    0.008403   \n",
       "avgt2                             0.000000  82.500000   0.000000    0.000000   \n",
       "age_group                         1.000000   2.000000   1.000000    1.000000   \n",
       "\n",
       "                                    4          5           6           7       \\\n",
       "tier                              2.000000   2.000000    1.000000    1.000000   \n",
       "gender                            2.000000   1.000000    1.000000    2.000000   \n",
       "following_rate                    0.000000   0.000000    0.000000    0.000000   \n",
       "followers_avg_age                 0.000000   0.000000    0.000000    0.000000   \n",
       "following_avg_age                 0.000000   0.000000    0.000000    0.000000   \n",
       "max_repetitive_punc               0.000000   0.000000    0.000000    0.000000   \n",
       "num_of_hashtags_per_action        0.000000   0.000000    0.000000    0.000000   \n",
       "emoji_count_per_action            0.000000   0.000000    0.000000    0.000000   \n",
       "punctuations_per_action           0.000000   0.000000    0.000000    0.000000   \n",
       "number_of_words_per_action        0.000000   0.000000    0.166667    0.500000   \n",
       "avgCompletion                     0.456549   0.306116    0.150989    0.075048   \n",
       "avgTimeSpent                     12.333333   7.200000    6.700000    2.625000   \n",
       "avgDuration                      53.766640  31.369556  127.402333  239.236667   \n",
       "avgComments                       0.000000   0.000000    0.000000    0.000000   \n",
       "creations                         0.000000   0.000000    0.007874    0.007874   \n",
       "content_views                     0.204918   0.072581    0.078740    0.047244   \n",
       "num_of_comments                   0.000000   0.000000    0.000000    0.000000   \n",
       "weekends_trails_watched_per_day   0.000000   0.080645    0.000000    0.031496   \n",
       "weekdays_trails_watched_per_day   0.049180   0.000000    0.015748    0.000000   \n",
       "slot1_trails_watched_per_day      0.000000   0.000000    0.070866    0.000000   \n",
       "slot2_trails_watched_per_day      0.008197   0.000000    0.000000    0.062992   \n",
       "slot3_trails_watched_per_day      0.057377   0.000000    0.007874    0.000000   \n",
       "slot4_trails_watched_per_day      0.180328   0.161290    0.000000    0.000000   \n",
       "avgt2                             0.000000   0.000000  128.200000  184.781250   \n",
       "age_group                         1.000000   1.000000    1.000000    3.000000   \n",
       "\n",
       "                                     8          9       ...     488867  \\\n",
       "tier                               2.000000   2.000000  ...   2.000000   \n",
       "gender                             1.000000   1.000000  ...   1.000000   \n",
       "following_rate                     0.013245   0.000000  ...   0.000000   \n",
       "followers_avg_age                  0.000000   0.000000  ...   0.000000   \n",
       "following_avg_age                  0.000000   0.000000  ...   0.000000   \n",
       "max_repetitive_punc                0.000000   0.000000  ...   0.000000   \n",
       "num_of_hashtags_per_action         0.000000   0.000000  ...   0.000000   \n",
       "emoji_count_per_action             0.000000   0.000000  ...   0.000000   \n",
       "punctuations_per_action            0.000000   0.000000  ...   0.000000   \n",
       "number_of_words_per_action         0.008955   0.000000  ...   0.000000   \n",
       "avgCompletion                      0.182755   0.421390  ...   0.278309   \n",
       "avgTimeSpent                       8.255385   8.285714  ...   4.600000   \n",
       "avgDuration                       40.811707  40.277000  ...  23.096000   \n",
       "avgComments                        0.000000   0.000000  ...   0.000000   \n",
       "creations                          0.009934   0.000000  ...   0.000000   \n",
       "content_views                      1.096026   0.067961  ...   0.040650   \n",
       "num_of_comments                    0.000000   0.000000  ...   0.000000   \n",
       "weekends_trails_watched_per_day    0.000000   0.009709  ...   0.000000   \n",
       "weekdays_trails_watched_per_day    0.215232   0.009709  ...   0.008130   \n",
       "slot1_trails_watched_per_day       0.195364   0.000000  ...   0.000000   \n",
       "slot2_trails_watched_per_day       0.149007   0.038835  ...   0.000000   \n",
       "slot3_trails_watched_per_day       0.125828   0.009709  ...   0.040650   \n",
       "slot4_trails_watched_per_day       0.605960   0.019417  ...   0.000000   \n",
       "avgt2                            155.562500   0.000000  ...   0.000000   \n",
       "age_group                          4.000000   1.000000  ...   1.000000   \n",
       "\n",
       "                                    488868     488869      488870     488871  \\\n",
       "tier                              2.000000   2.000000    1.000000   2.000000   \n",
       "gender                            2.000000   1.000000    1.000000   2.000000   \n",
       "following_rate                    0.000000   0.000000    0.103175   0.000000   \n",
       "followers_avg_age                 0.000000   0.000000    1.875000   0.000000   \n",
       "following_avg_age                 0.000000   0.000000    2.333333   0.000000   \n",
       "max_repetitive_punc               0.000000   0.000000    0.000000   0.000000   \n",
       "num_of_hashtags_per_action        0.000000   0.000000    0.000000   0.000000   \n",
       "emoji_count_per_action            0.000000   0.000000    0.000000   0.000000   \n",
       "punctuations_per_action           0.000000   0.000000    0.000000   0.000000   \n",
       "number_of_words_per_action        0.000000   0.000000    0.109091   0.000000   \n",
       "avgCompletion                     0.158062   0.307646    0.223827   0.615949   \n",
       "avgTimeSpent                      3.545455   6.750000   33.859155  13.326923   \n",
       "avgDuration                      52.297273  97.706000   76.140158  20.857065   \n",
       "avgComments                       0.000000   0.000000    0.000000   0.000000   \n",
       "creations                         0.000000   0.000000    0.023810   0.000000   \n",
       "content_views                     0.092437   0.055556    0.404762   0.571429   \n",
       "num_of_comments                   0.000000   0.000000    0.000000   0.000000   \n",
       "weekends_trails_watched_per_day   0.000000   0.000000    0.115079   0.000000   \n",
       "weekdays_trails_watched_per_day   0.018487   0.012698    0.066667   0.123810   \n",
       "slot1_trails_watched_per_day      0.092437   0.000000    0.000000   0.000000   \n",
       "slot2_trails_watched_per_day      0.000000   0.000000    0.261905   0.000000   \n",
       "slot3_trails_watched_per_day      0.000000   0.000000    0.269841   0.619048   \n",
       "slot4_trails_watched_per_day      0.000000   0.063492    0.031746   0.000000   \n",
       "avgt2                             0.000000   0.000000  211.411765   0.000000   \n",
       "age_group                         1.000000   1.000000    3.000000   1.000000   \n",
       "\n",
       "                                     488872      488873      488874  \\\n",
       "tier                               2.000000    1.000000    1.000000   \n",
       "gender                             2.000000    1.000000    1.000000   \n",
       "following_rate                     0.000000    0.017241    0.229508   \n",
       "followers_avg_age                  0.000000    0.000000    1.625000   \n",
       "following_avg_age                  0.000000    0.000000    2.250000   \n",
       "max_repetitive_punc                0.000000    0.000000    0.000000   \n",
       "num_of_hashtags_per_action         0.000000    0.000000    0.000000   \n",
       "emoji_count_per_action             0.000000    0.000000    0.000000   \n",
       "punctuations_per_action            0.000000    0.000000    0.000000   \n",
       "number_of_words_per_action         0.300000    0.012195    0.094340   \n",
       "avgCompletion                      0.422837    0.668494    0.579213   \n",
       "avgTimeSpent                       8.714286   35.662921   13.444444   \n",
       "avgDuration                       56.783167   69.031216   50.611380   \n",
       "avgComments                        0.000000    2.000000    0.000000   \n",
       "creations                          0.008000    0.051724    0.016393   \n",
       "content_views                      0.064000    2.043103    0.409836   \n",
       "num_of_comments                    0.000000    0.017241    0.000000   \n",
       "weekends_trails_watched_per_day    0.012000    0.301724    0.000000   \n",
       "weekdays_trails_watched_per_day    0.006400    0.339655    0.118033   \n",
       "slot1_trails_watched_per_day       0.000000    0.068966    0.000000   \n",
       "slot2_trails_watched_per_day       0.008000    0.922414    0.049180   \n",
       "slot3_trails_watched_per_day       0.000000    0.137931    0.237705   \n",
       "slot4_trails_watched_per_day       0.048000    1.172414    0.303279   \n",
       "avgt2                            195.000000  188.742857  184.880000   \n",
       "age_group                          1.000000    4.000000    4.000000   \n",
       "\n",
       "                                     488875     488876  \n",
       "tier                               2.000000   2.000000  \n",
       "gender                             1.000000   1.000000  \n",
       "following_rate                     0.000000   0.000000  \n",
       "followers_avg_age                  0.000000   0.000000  \n",
       "following_avg_age                  0.000000   0.000000  \n",
       "max_repetitive_punc                0.000000   0.000000  \n",
       "num_of_hashtags_per_action         0.000000   0.000000  \n",
       "emoji_count_per_action             0.000000   0.000000  \n",
       "punctuations_per_action            0.000000   0.000000  \n",
       "number_of_words_per_action         0.000000   0.000000  \n",
       "avgCompletion                      0.221303   0.253091  \n",
       "avgTimeSpent                       9.578947   3.142857  \n",
       "avgDuration                      131.188182  10.550500  \n",
       "avgComments                        0.000000   0.000000  \n",
       "creations                          0.000000   0.000000  \n",
       "content_views                      0.113821   0.073171  \n",
       "num_of_comments                    0.000000   0.000000  \n",
       "weekends_trails_watched_per_day    0.000000   0.000000  \n",
       "weekdays_trails_watched_per_day    0.030894   0.011382  \n",
       "slot1_trails_watched_per_day       0.000000   0.000000  \n",
       "slot2_trails_watched_per_day       0.024390   0.000000  \n",
       "slot3_trails_watched_per_day       0.130081   0.056911  \n",
       "slot4_trails_watched_per_day       0.000000   0.000000  \n",
       "avgt2                              0.000000   0.000000  \n",
       "age_group                          1.000000   1.000000  \n",
       "\n",
       "[25 rows x 488877 columns]"
      ]
     },
     "execution_count": 34,
     "metadata": {},
     "output_type": "execute_result"
    }
   ],
   "source": [
    "df.T.head(28)"
   ]
  },
  {
   "cell_type": "code",
   "execution_count": 75,
   "metadata": {},
   "outputs": [],
   "source": [
    "df['follow_avg_age']=df['followers_avg_age']+df['following_avg_age']"
   ]
  },
  {
   "cell_type": "code",
   "execution_count": 76,
   "metadata": {},
   "outputs": [],
   "source": [
    "df['react_per_action']=df['num_of_hashtags_per_action']+df['emoji_count_per_action']+df['punctuations_per_action']"
   ]
  },
  {
   "cell_type": "code",
   "execution_count": 77,
   "metadata": {},
   "outputs": [],
   "source": [
    "df['avg_vid']=df['slot1_trails_watched_per_day']+df['slot2_trails_watched_per_day']+df['slot3_trails_watched_per_day']+df['slot4_trails_watched_per_day']"
   ]
  },
  {
   "cell_type": "code",
   "execution_count": 78,
   "metadata": {},
   "outputs": [
    {
     "data": {
      "text/plain": [
       "Index(['tier', 'gender', 'following_rate', 'followers_avg_age',\n",
       "       'following_avg_age', 'max_repetitive_punc',\n",
       "       'num_of_hashtags_per_action', 'emoji_count_per_action',\n",
       "       'punctuations_per_action', 'number_of_words_per_action',\n",
       "       'avgCompletion', 'avgTimeSpent', 'avgDuration', 'avgComments',\n",
       "       'creations', 'content_views', 'num_of_comments',\n",
       "       'weekends_trails_watched_per_day', 'weekdays_trails_watched_per_day',\n",
       "       'slot1_trails_watched_per_day', 'slot2_trails_watched_per_day',\n",
       "       'slot3_trails_watched_per_day', 'slot4_trails_watched_per_day', 'avgt2',\n",
       "       'age_group', 'follow_avg_age', 'react_per_action', 'avg_vid'],\n",
       "      dtype='object')"
      ]
     },
     "execution_count": 78,
     "metadata": {},
     "output_type": "execute_result"
    }
   ],
   "source": [
    "df.columns"
   ]
  },
  {
   "cell_type": "code",
   "execution_count": 79,
   "metadata": {},
   "outputs": [],
   "source": [
    "df=df.drop(['followers_avg_age','following_avg_age','num_of_hashtags_per_action','emoji_count_per_action','punctuations_per_action',\n",
    "            'avgCompletion','avgDuration','slot1_trails_watched_per_day','slot2_trails_watched_per_day',\n",
    "            'slot3_trails_watched_per_day','slot4_trails_watched_per_day'],axis=1)"
   ]
  },
  {
   "cell_type": "code",
   "execution_count": 82,
   "metadata": {},
   "outputs": [
    {
     "data": {
      "text/html": [
       "<div>\n",
       "<style scoped>\n",
       "    .dataframe tbody tr th:only-of-type {\n",
       "        vertical-align: middle;\n",
       "    }\n",
       "\n",
       "    .dataframe tbody tr th {\n",
       "        vertical-align: top;\n",
       "    }\n",
       "\n",
       "    .dataframe thead th {\n",
       "        text-align: right;\n",
       "    }\n",
       "</style>\n",
       "<table border=\"1\" class=\"dataframe\">\n",
       "  <thead>\n",
       "    <tr style=\"text-align: right;\">\n",
       "      <th></th>\n",
       "      <th>tier</th>\n",
       "      <th>gender</th>\n",
       "      <th>following_rate</th>\n",
       "      <th>max_repetitive_punc</th>\n",
       "      <th>number_of_words_per_action</th>\n",
       "      <th>avgTimeSpent</th>\n",
       "      <th>avgComments</th>\n",
       "      <th>creations</th>\n",
       "      <th>content_views</th>\n",
       "      <th>num_of_comments</th>\n",
       "      <th>weekends_trails_watched_per_day</th>\n",
       "      <th>weekdays_trails_watched_per_day</th>\n",
       "      <th>avgt2</th>\n",
       "      <th>age_group</th>\n",
       "      <th>follow_avg_age</th>\n",
       "      <th>react_per_action</th>\n",
       "      <th>avg_vid</th>\n",
       "    </tr>\n",
       "  </thead>\n",
       "  <tbody>\n",
       "    <tr>\n",
       "      <th>0</th>\n",
       "      <td>2</td>\n",
       "      <td>1</td>\n",
       "      <td>0.0</td>\n",
       "      <td>0</td>\n",
       "      <td>0.000000</td>\n",
       "      <td>34.160000</td>\n",
       "      <td>0</td>\n",
       "      <td>0.000000</td>\n",
       "      <td>0.200000</td>\n",
       "      <td>0.0</td>\n",
       "      <td>0.041667</td>\n",
       "      <td>0.025000</td>\n",
       "      <td>0.0</td>\n",
       "      <td>1</td>\n",
       "      <td>0.0</td>\n",
       "      <td>0.000000</td>\n",
       "      <td>0.208333</td>\n",
       "    </tr>\n",
       "    <tr>\n",
       "      <th>1</th>\n",
       "      <td>2</td>\n",
       "      <td>2</td>\n",
       "      <td>0.0</td>\n",
       "      <td>0</td>\n",
       "      <td>0.153846</td>\n",
       "      <td>15.285714</td>\n",
       "      <td>0</td>\n",
       "      <td>0.008475</td>\n",
       "      <td>0.093220</td>\n",
       "      <td>0.0</td>\n",
       "      <td>0.012712</td>\n",
       "      <td>0.018644</td>\n",
       "      <td>82.5</td>\n",
       "      <td>2</td>\n",
       "      <td>0.0</td>\n",
       "      <td>0.076923</td>\n",
       "      <td>0.118644</td>\n",
       "    </tr>\n",
       "    <tr>\n",
       "      <th>2</th>\n",
       "      <td>2</td>\n",
       "      <td>1</td>\n",
       "      <td>0.0</td>\n",
       "      <td>0</td>\n",
       "      <td>0.000000</td>\n",
       "      <td>22.000000</td>\n",
       "      <td>0</td>\n",
       "      <td>0.000000</td>\n",
       "      <td>0.002786</td>\n",
       "      <td>0.0</td>\n",
       "      <td>0.000000</td>\n",
       "      <td>0.000557</td>\n",
       "      <td>0.0</td>\n",
       "      <td>1</td>\n",
       "      <td>0.0</td>\n",
       "      <td>0.000000</td>\n",
       "      <td>0.002786</td>\n",
       "    </tr>\n",
       "    <tr>\n",
       "      <th>3</th>\n",
       "      <td>2</td>\n",
       "      <td>1</td>\n",
       "      <td>0.0</td>\n",
       "      <td>0</td>\n",
       "      <td>0.000000</td>\n",
       "      <td>3.000000</td>\n",
       "      <td>0</td>\n",
       "      <td>0.000000</td>\n",
       "      <td>0.008403</td>\n",
       "      <td>0.0</td>\n",
       "      <td>0.000000</td>\n",
       "      <td>0.001681</td>\n",
       "      <td>0.0</td>\n",
       "      <td>1</td>\n",
       "      <td>0.0</td>\n",
       "      <td>0.000000</td>\n",
       "      <td>0.008403</td>\n",
       "    </tr>\n",
       "    <tr>\n",
       "      <th>4</th>\n",
       "      <td>2</td>\n",
       "      <td>2</td>\n",
       "      <td>0.0</td>\n",
       "      <td>0</td>\n",
       "      <td>0.000000</td>\n",
       "      <td>12.333333</td>\n",
       "      <td>0</td>\n",
       "      <td>0.000000</td>\n",
       "      <td>0.204918</td>\n",
       "      <td>0.0</td>\n",
       "      <td>0.000000</td>\n",
       "      <td>0.049180</td>\n",
       "      <td>0.0</td>\n",
       "      <td>1</td>\n",
       "      <td>0.0</td>\n",
       "      <td>0.000000</td>\n",
       "      <td>0.245902</td>\n",
       "    </tr>\n",
       "  </tbody>\n",
       "</table>\n",
       "</div>"
      ],
      "text/plain": [
       "   tier  gender  following_rate  max_repetitive_punc  \\\n",
       "0     2       1             0.0                    0   \n",
       "1     2       2             0.0                    0   \n",
       "2     2       1             0.0                    0   \n",
       "3     2       1             0.0                    0   \n",
       "4     2       2             0.0                    0   \n",
       "\n",
       "   number_of_words_per_action  avgTimeSpent  avgComments  creations  \\\n",
       "0                    0.000000     34.160000            0   0.000000   \n",
       "1                    0.153846     15.285714            0   0.008475   \n",
       "2                    0.000000     22.000000            0   0.000000   \n",
       "3                    0.000000      3.000000            0   0.000000   \n",
       "4                    0.000000     12.333333            0   0.000000   \n",
       "\n",
       "   content_views  num_of_comments  weekends_trails_watched_per_day  \\\n",
       "0       0.200000              0.0                         0.041667   \n",
       "1       0.093220              0.0                         0.012712   \n",
       "2       0.002786              0.0                         0.000000   \n",
       "3       0.008403              0.0                         0.000000   \n",
       "4       0.204918              0.0                         0.000000   \n",
       "\n",
       "   weekdays_trails_watched_per_day  avgt2  age_group  follow_avg_age  \\\n",
       "0                         0.025000    0.0          1             0.0   \n",
       "1                         0.018644   82.5          2             0.0   \n",
       "2                         0.000557    0.0          1             0.0   \n",
       "3                         0.001681    0.0          1             0.0   \n",
       "4                         0.049180    0.0          1             0.0   \n",
       "\n",
       "   react_per_action   avg_vid  \n",
       "0          0.000000  0.208333  \n",
       "1          0.076923  0.118644  \n",
       "2          0.000000  0.002786  \n",
       "3          0.000000  0.008403  \n",
       "4          0.000000  0.245902  "
      ]
     },
     "execution_count": 82,
     "metadata": {},
     "output_type": "execute_result"
    }
   ],
   "source": [
    "df.head()"
   ]
  },
  {
   "cell_type": "code",
   "execution_count": 81,
   "metadata": {},
   "outputs": [],
   "source": [
    "from sklearn.linear_model import LogisticRegression\n",
    "from sklearn.model_selection import train_test_split\n",
    "from sklearn.preprocessing import MinMaxScaler\n",
    "from sklearn.metrics import f1_score"
   ]
  },
  {
   "cell_type": "code",
   "execution_count": 84,
   "metadata": {},
   "outputs": [],
   "source": [
    "y= df.iloc[:,13]\n",
    "X= df.drop(['age_group'],axis=1)"
   ]
  },
  {
   "cell_type": "code",
   "execution_count": 85,
   "metadata": {},
   "outputs": [],
   "source": [
    "X_train,X_test,y_train,y_test=train_test_split(X,y,random_state=0,test_size=.2)"
   ]
  },
  {
   "cell_type": "code",
   "execution_count": 86,
   "metadata": {},
   "outputs": [],
   "source": [
    "from sklearn.ensemble import RandomForestClassifier"
   ]
  },
  {
   "cell_type": "code",
   "execution_count": 87,
   "metadata": {},
   "outputs": [],
   "source": [
    "rm=RandomForestClassifier(n_estimators=300).fit(X_train,y_train)\n"
   ]
  },
  {
   "cell_type": "code",
   "execution_count": 88,
   "metadata": {},
   "outputs": [
    {
     "data": {
      "text/plain": [
       "0.7223654066437571"
      ]
     },
     "execution_count": 88,
     "metadata": {},
     "output_type": "execute_result"
    }
   ],
   "source": [
    "rm_pred=rm.predict(X_test)\n",
    "f1=f1_score(y_test,rm_pred,average='micro')\n",
    "f1"
   ]
  },
  {
   "cell_type": "code",
   "execution_count": 89,
   "metadata": {},
   "outputs": [],
   "source": [
    "tdf=pd.read_csv(r'F:\\Chrome Downloads\\CSV files\\test_age_dataset.csv')"
   ]
  },
  {
   "cell_type": "code",
   "execution_count": 90,
   "metadata": {},
   "outputs": [],
   "source": [
    "tdf=tdf.drop(['Unnamed: 0','userId'],axis=1)"
   ]
  },
  {
   "cell_type": "code",
   "execution_count": 91,
   "metadata": {},
   "outputs": [],
   "source": [
    "tdf['follow_avg_age']=tdf['followers_avg_age']+tdf['following_avg_age']\n",
    "tdf['react_per_action']=tdf['num_of_hashtags_per_action']+tdf['emoji_count_per_action']+tdf['punctuations_per_action']\n",
    "tdf['avg_vid']=tdf['slot1_trails_watched_per_day']+tdf['slot2_trails_watched_per_day']+tdf['slot3_trails_watched_per_day']+tdf['slot4_trails_watched_per_day']"
   ]
  },
  {
   "cell_type": "code",
   "execution_count": 92,
   "metadata": {},
   "outputs": [],
   "source": [
    "tdf=tdf.drop(['followers_avg_age','following_avg_age','num_of_hashtags_per_action','emoji_count_per_action','punctuations_per_action',\n",
    "            'avgCompletion','avgDuration','slot1_trails_watched_per_day','slot2_trails_watched_per_day',\n",
    "            'slot3_trails_watched_per_day','slot4_trails_watched_per_day'],axis=1)"
   ]
  },
  {
   "cell_type": "code",
   "execution_count": 93,
   "metadata": {},
   "outputs": [
    {
     "data": {
      "text/plain": [
       "(54320, 16)"
      ]
     },
     "execution_count": 93,
     "metadata": {},
     "output_type": "execute_result"
    }
   ],
   "source": [
    "tdf.shape"
   ]
  },
  {
   "cell_type": "code",
   "execution_count": 94,
   "metadata": {},
   "outputs": [],
   "source": [
    "y= df.iloc[:,13]\n",
    "X= df.drop(['age_group'],axis=1)\n",
    "X_test= tdf"
   ]
  },
  {
   "cell_type": "code",
   "execution_count": 95,
   "metadata": {},
   "outputs": [],
   "source": [
    "rm=RandomForestClassifier(n_estimators=300).fit(X_train,y_train)"
   ]
  },
  {
   "cell_type": "code",
   "execution_count": 96,
   "metadata": {},
   "outputs": [],
   "source": [
    "rm_pred=rm.predict(X_test)"
   ]
  },
  {
   "cell_type": "code",
   "execution_count": 97,
   "metadata": {},
   "outputs": [],
   "source": [
    "a= pd.Series(rm_pred)"
   ]
  },
  {
   "cell_type": "code",
   "execution_count": 98,
   "metadata": {},
   "outputs": [],
   "source": [
    "a.to_csv('check.csv',index=False)"
   ]
  },
  {
   "cell_type": "code",
   "execution_count": 66,
   "metadata": {},
   "outputs": [
    {
     "data": {
      "text/plain": [
       "0         0\n",
       "1         0\n",
       "2         0\n",
       "3         0\n",
       "4         0\n",
       "         ..\n",
       "488872    0\n",
       "488873    2\n",
       "488874    0\n",
       "488875    0\n",
       "488876    0\n",
       "Name: avg_vid, Length: 488877, dtype: int32"
      ]
     },
     "execution_count": 66,
     "metadata": {},
     "output_type": "execute_result"
    }
   ],
   "source": [
    "y_train"
   ]
  },
  {
   "cell_type": "code",
   "execution_count": 68,
   "metadata": {},
   "outputs": [
    {
     "name": "stdout",
     "output_type": "stream",
     "text": [
      "<class 'pandas.core.frame.DataFrame'>\n",
      "RangeIndex: 488877 entries, 0 to 488876\n",
      "Data columns (total 17 columns):\n",
      " #   Column                           Non-Null Count   Dtype  \n",
      "---  ------                           --------------   -----  \n",
      " 0   tier                             488877 non-null  int64  \n",
      " 1   gender                           488877 non-null  int64  \n",
      " 2   following_rate                   488877 non-null  float64\n",
      " 3   max_repetitive_punc              488877 non-null  int64  \n",
      " 4   number_of_words_per_action       488877 non-null  float64\n",
      " 5   avgTimeSpent                     488877 non-null  float64\n",
      " 6   avgComments                      488877 non-null  int64  \n",
      " 7   creations                        488877 non-null  float64\n",
      " 8   content_views                    488877 non-null  float64\n",
      " 9   num_of_comments                  488877 non-null  float64\n",
      " 10  weekends_trails_watched_per_day  488877 non-null  float64\n",
      " 11  weekdays_trails_watched_per_day  488877 non-null  float64\n",
      " 12  avgt2                            488877 non-null  float64\n",
      " 13  age_group                        488877 non-null  int64  \n",
      " 14  follow_avg_age                   488877 non-null  float64\n",
      " 15  react_per_action                 488877 non-null  float64\n",
      " 16  avg_vid                          488877 non-null  float64\n",
      "dtypes: float64(12), int64(5)\n",
      "memory usage: 63.4 MB\n"
     ]
    }
   ],
   "source": [
    "df.info()"
   ]
  },
  {
   "cell_type": "code",
   "execution_count": null,
   "metadata": {},
   "outputs": [],
   "source": []
  }
 ],
 "metadata": {
  "kernelspec": {
   "display_name": "Python 3",
   "language": "python",
   "name": "python3"
  },
  "language_info": {
   "codemirror_mode": {
    "name": "ipython",
    "version": 3
   },
   "file_extension": ".py",
   "mimetype": "text/x-python",
   "name": "python",
   "nbconvert_exporter": "python",
   "pygments_lexer": "ipython3",
   "version": "3.6.12"
  }
 },
 "nbformat": 4,
 "nbformat_minor": 4
}
