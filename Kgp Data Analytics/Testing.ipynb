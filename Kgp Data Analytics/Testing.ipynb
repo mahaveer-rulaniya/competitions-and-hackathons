{
 "cells": [
  {
   "cell_type": "code",
   "execution_count": 1,
   "metadata": {},
   "outputs": [],
   "source": [
    "import pandas as pd\n",
    "import numpy as np\n",
    "import matplotlib.pyplot as plt\n",
    "%matplotlib inline\n",
    "import seaborn as sns"
   ]
  },
  {
   "cell_type": "code",
   "execution_count": 2,
   "metadata": {},
   "outputs": [],
   "source": [
    "df=pd.read_csv('train.csv')"
   ]
  },
  {
   "cell_type": "code",
   "execution_count": 3,
   "metadata": {},
   "outputs": [],
   "source": [
    "df=df.drop(['id'],axis=1)"
   ]
  },
  {
   "cell_type": "code",
   "execution_count": 4,
   "metadata": {},
   "outputs": [],
   "source": [
    "df['delivery date']=pd.to_datetime(df['delivery date'])"
   ]
  },
  {
   "cell_type": "code",
   "execution_count": 5,
   "metadata": {},
   "outputs": [],
   "source": [
    "df['month_Dd'] = pd.DatetimeIndex(df['delivery date']).month"
   ]
  },
  {
   "cell_type": "code",
   "execution_count": 6,
   "metadata": {},
   "outputs": [],
   "source": [
    "df['placement date']=pd.to_datetime(df['placement date'])"
   ]
  },
  {
   "cell_type": "code",
   "execution_count": 7,
   "metadata": {},
   "outputs": [],
   "source": [
    "df['month_Pd'] = pd.DatetimeIndex(df['placement date']).month"
   ]
  },
  {
   "cell_type": "code",
   "execution_count": 8,
   "metadata": {},
   "outputs": [],
   "source": [
    "df=df.drop(['placement date','delivery date','month_Pd'],axis=1)"
   ]
  },
  {
   "cell_type": "code",
   "execution_count": 9,
   "metadata": {},
   "outputs": [],
   "source": [
    "df=df.drop(['departure city'],axis=1)"
   ]
  },
  {
   "cell_type": "code",
   "execution_count": 10,
   "metadata": {},
   "outputs": [],
   "source": [
    "df=df.drop(['address code'],axis=1)"
   ]
  },
  {
   "cell_type": "code",
   "execution_count": 11,
   "metadata": {},
   "outputs": [],
   "source": [
    "df['delivery type']=df['delivery type'].fillna(df['delivery type'].mode()[0])"
   ]
  },
  {
   "cell_type": "code",
   "execution_count": 12,
   "metadata": {},
   "outputs": [
    {
     "data": {
      "text/html": [
       "<div>\n",
       "<style scoped>\n",
       "    .dataframe tbody tr th:only-of-type {\n",
       "        vertical-align: middle;\n",
       "    }\n",
       "\n",
       "    .dataframe tbody tr th {\n",
       "        vertical-align: top;\n",
       "    }\n",
       "\n",
       "    .dataframe thead th {\n",
       "        text-align: right;\n",
       "    }\n",
       "</style>\n",
       "<table border=\"1\" class=\"dataframe\">\n",
       "  <thead>\n",
       "    <tr style=\"text-align: right;\">\n",
       "      <th></th>\n",
       "      <th>discount</th>\n",
       "      <th>price</th>\n",
       "      <th>no of items</th>\n",
       "      <th>location</th>\n",
       "      <th>class</th>\n",
       "      <th>segment</th>\n",
       "      <th>sub-class</th>\n",
       "      <th>delivery type</th>\n",
       "      <th>RID</th>\n",
       "      <th>profit</th>\n",
       "      <th>departure state</th>\n",
       "      <th>month_Dd</th>\n",
       "    </tr>\n",
       "  </thead>\n",
       "  <tbody>\n",
       "    <tr>\n",
       "      <th>0</th>\n",
       "      <td>0.2</td>\n",
       "      <td>16.448</td>\n",
       "      <td>2</td>\n",
       "      <td>Central</td>\n",
       "      <td>kariox</td>\n",
       "      <td>Consumer</td>\n",
       "      <td>phone</td>\n",
       "      <td>Standard Class</td>\n",
       "      <td>7981</td>\n",
       "      <td>5.5512</td>\n",
       "      <td>Texas</td>\n",
       "      <td>1</td>\n",
       "    </tr>\n",
       "    <tr>\n",
       "      <th>1</th>\n",
       "      <td>0.0</td>\n",
       "      <td>29.700</td>\n",
       "      <td>5</td>\n",
       "      <td>Central</td>\n",
       "      <td>kariox</td>\n",
       "      <td>Consumer</td>\n",
       "      <td>headset</td>\n",
       "      <td>Standard Class</td>\n",
       "      <td>6334</td>\n",
       "      <td>13.3650</td>\n",
       "      <td>Michigan</td>\n",
       "      <td>1</td>\n",
       "    </tr>\n",
       "    <tr>\n",
       "      <th>2</th>\n",
       "      <td>0.0</td>\n",
       "      <td>14.730</td>\n",
       "      <td>3</td>\n",
       "      <td>Central</td>\n",
       "      <td>qexty</td>\n",
       "      <td>Consumer</td>\n",
       "      <td>shorts</td>\n",
       "      <td>Standard Class</td>\n",
       "      <td>6333</td>\n",
       "      <td>4.8609</td>\n",
       "      <td>Michigan</td>\n",
       "      <td>1</td>\n",
       "    </tr>\n",
       "    <tr>\n",
       "      <th>3</th>\n",
       "      <td>0.0</td>\n",
       "      <td>43.920</td>\n",
       "      <td>3</td>\n",
       "      <td>Central</td>\n",
       "      <td>kariox</td>\n",
       "      <td>Consumer</td>\n",
       "      <td>television</td>\n",
       "      <td>Standard Class</td>\n",
       "      <td>6332</td>\n",
       "      <td>12.7368</td>\n",
       "      <td>Michigan</td>\n",
       "      <td>1</td>\n",
       "    </tr>\n",
       "    <tr>\n",
       "      <th>4</th>\n",
       "      <td>0.0</td>\n",
       "      <td>66.580</td>\n",
       "      <td>2</td>\n",
       "      <td>Central</td>\n",
       "      <td>kariox</td>\n",
       "      <td>Consumer</td>\n",
       "      <td>laptop</td>\n",
       "      <td>Standard Class</td>\n",
       "      <td>6331</td>\n",
       "      <td>15.9792</td>\n",
       "      <td>Michigan</td>\n",
       "      <td>1</td>\n",
       "    </tr>\n",
       "  </tbody>\n",
       "</table>\n",
       "</div>"
      ],
      "text/plain": [
       "   discount   price  no of items location   class   segment   sub-class  \\\n",
       "0       0.2  16.448            2  Central  kariox  Consumer       phone   \n",
       "1       0.0  29.700            5  Central  kariox  Consumer     headset   \n",
       "2       0.0  14.730            3  Central   qexty  Consumer      shorts   \n",
       "3       0.0  43.920            3  Central  kariox  Consumer  television   \n",
       "4       0.0  66.580            2  Central  kariox  Consumer      laptop   \n",
       "\n",
       "    delivery type   RID   profit departure state  month_Dd  \n",
       "0  Standard Class  7981   5.5512           Texas         1  \n",
       "1  Standard Class  6334  13.3650        Michigan         1  \n",
       "2  Standard Class  6333   4.8609        Michigan         1  \n",
       "3  Standard Class  6332  12.7368        Michigan         1  \n",
       "4  Standard Class  6331  15.9792        Michigan         1  "
      ]
     },
     "execution_count": 12,
     "metadata": {},
     "output_type": "execute_result"
    }
   ],
   "source": [
    "df.head()"
   ]
  },
  {
   "cell_type": "code",
   "execution_count": 13,
   "metadata": {},
   "outputs": [],
   "source": [
    "data=pd.get_dummies(df)"
   ]
  },
  {
   "cell_type": "code",
   "execution_count": 16,
   "metadata": {},
   "outputs": [],
   "source": [
    "data=data.drop(['location_Central','class_fynota','segment_Consumer','sub-class_battery','delivery type_Second Class','departure state_Arizona'],axis=1)"
   ]
  },
  {
   "cell_type": "code",
   "execution_count": 18,
   "metadata": {},
   "outputs": [
    {
     "data": {
      "text/html": [
       "<div>\n",
       "<style scoped>\n",
       "    .dataframe tbody tr th:only-of-type {\n",
       "        vertical-align: middle;\n",
       "    }\n",
       "\n",
       "    .dataframe tbody tr th {\n",
       "        vertical-align: top;\n",
       "    }\n",
       "\n",
       "    .dataframe thead th {\n",
       "        text-align: right;\n",
       "    }\n",
       "</style>\n",
       "<table border=\"1\" class=\"dataframe\">\n",
       "  <thead>\n",
       "    <tr style=\"text-align: right;\">\n",
       "      <th></th>\n",
       "      <th>discount</th>\n",
       "      <th>price</th>\n",
       "      <th>no of items</th>\n",
       "      <th>RID</th>\n",
       "      <th>profit</th>\n",
       "      <th>month_Dd</th>\n",
       "      <th>location_East</th>\n",
       "      <th>location_South</th>\n",
       "      <th>location_West</th>\n",
       "      <th>class_kariox</th>\n",
       "      <th>...</th>\n",
       "      <th>departure state_South Carolina</th>\n",
       "      <th>departure state_South Dakota</th>\n",
       "      <th>departure state_Tennessee</th>\n",
       "      <th>departure state_Texas</th>\n",
       "      <th>departure state_Utah</th>\n",
       "      <th>departure state_Vermont</th>\n",
       "      <th>departure state_Virginia</th>\n",
       "      <th>departure state_Washington</th>\n",
       "      <th>departure state_Wisconsin</th>\n",
       "      <th>departure state_Wyoming</th>\n",
       "    </tr>\n",
       "  </thead>\n",
       "  <tbody>\n",
       "    <tr>\n",
       "      <th>0</th>\n",
       "      <td>0.2</td>\n",
       "      <td>16.448</td>\n",
       "      <td>2</td>\n",
       "      <td>7981</td>\n",
       "      <td>5.5512</td>\n",
       "      <td>1</td>\n",
       "      <td>0</td>\n",
       "      <td>0</td>\n",
       "      <td>0</td>\n",
       "      <td>1</td>\n",
       "      <td>...</td>\n",
       "      <td>0</td>\n",
       "      <td>0</td>\n",
       "      <td>0</td>\n",
       "      <td>1</td>\n",
       "      <td>0</td>\n",
       "      <td>0</td>\n",
       "      <td>0</td>\n",
       "      <td>0</td>\n",
       "      <td>0</td>\n",
       "      <td>0</td>\n",
       "    </tr>\n",
       "    <tr>\n",
       "      <th>1</th>\n",
       "      <td>0.0</td>\n",
       "      <td>29.700</td>\n",
       "      <td>5</td>\n",
       "      <td>6334</td>\n",
       "      <td>13.3650</td>\n",
       "      <td>1</td>\n",
       "      <td>0</td>\n",
       "      <td>0</td>\n",
       "      <td>0</td>\n",
       "      <td>1</td>\n",
       "      <td>...</td>\n",
       "      <td>0</td>\n",
       "      <td>0</td>\n",
       "      <td>0</td>\n",
       "      <td>0</td>\n",
       "      <td>0</td>\n",
       "      <td>0</td>\n",
       "      <td>0</td>\n",
       "      <td>0</td>\n",
       "      <td>0</td>\n",
       "      <td>0</td>\n",
       "    </tr>\n",
       "    <tr>\n",
       "      <th>2</th>\n",
       "      <td>0.0</td>\n",
       "      <td>14.730</td>\n",
       "      <td>3</td>\n",
       "      <td>6333</td>\n",
       "      <td>4.8609</td>\n",
       "      <td>1</td>\n",
       "      <td>0</td>\n",
       "      <td>0</td>\n",
       "      <td>0</td>\n",
       "      <td>0</td>\n",
       "      <td>...</td>\n",
       "      <td>0</td>\n",
       "      <td>0</td>\n",
       "      <td>0</td>\n",
       "      <td>0</td>\n",
       "      <td>0</td>\n",
       "      <td>0</td>\n",
       "      <td>0</td>\n",
       "      <td>0</td>\n",
       "      <td>0</td>\n",
       "      <td>0</td>\n",
       "    </tr>\n",
       "    <tr>\n",
       "      <th>3</th>\n",
       "      <td>0.0</td>\n",
       "      <td>43.920</td>\n",
       "      <td>3</td>\n",
       "      <td>6332</td>\n",
       "      <td>12.7368</td>\n",
       "      <td>1</td>\n",
       "      <td>0</td>\n",
       "      <td>0</td>\n",
       "      <td>0</td>\n",
       "      <td>1</td>\n",
       "      <td>...</td>\n",
       "      <td>0</td>\n",
       "      <td>0</td>\n",
       "      <td>0</td>\n",
       "      <td>0</td>\n",
       "      <td>0</td>\n",
       "      <td>0</td>\n",
       "      <td>0</td>\n",
       "      <td>0</td>\n",
       "      <td>0</td>\n",
       "      <td>0</td>\n",
       "    </tr>\n",
       "    <tr>\n",
       "      <th>4</th>\n",
       "      <td>0.0</td>\n",
       "      <td>66.580</td>\n",
       "      <td>2</td>\n",
       "      <td>6331</td>\n",
       "      <td>15.9792</td>\n",
       "      <td>1</td>\n",
       "      <td>0</td>\n",
       "      <td>0</td>\n",
       "      <td>0</td>\n",
       "      <td>1</td>\n",
       "      <td>...</td>\n",
       "      <td>0</td>\n",
       "      <td>0</td>\n",
       "      <td>0</td>\n",
       "      <td>0</td>\n",
       "      <td>0</td>\n",
       "      <td>0</td>\n",
       "      <td>0</td>\n",
       "      <td>0</td>\n",
       "      <td>0</td>\n",
       "      <td>0</td>\n",
       "    </tr>\n",
       "  </tbody>\n",
       "</table>\n",
       "<p>5 rows × 78 columns</p>\n",
       "</div>"
      ],
      "text/plain": [
       "   discount   price  no of items   RID   profit  month_Dd  location_East  \\\n",
       "0       0.2  16.448            2  7981   5.5512         1              0   \n",
       "1       0.0  29.700            5  6334  13.3650         1              0   \n",
       "2       0.0  14.730            3  6333   4.8609         1              0   \n",
       "3       0.0  43.920            3  6332  12.7368         1              0   \n",
       "4       0.0  66.580            2  6331  15.9792         1              0   \n",
       "\n",
       "   location_South  location_West  class_kariox  ...  \\\n",
       "0               0              0             1  ...   \n",
       "1               0              0             1  ...   \n",
       "2               0              0             0  ...   \n",
       "3               0              0             1  ...   \n",
       "4               0              0             1  ...   \n",
       "\n",
       "   departure state_South Carolina  departure state_South Dakota  \\\n",
       "0                               0                             0   \n",
       "1                               0                             0   \n",
       "2                               0                             0   \n",
       "3                               0                             0   \n",
       "4                               0                             0   \n",
       "\n",
       "   departure state_Tennessee  departure state_Texas  departure state_Utah  \\\n",
       "0                          0                      1                     0   \n",
       "1                          0                      0                     0   \n",
       "2                          0                      0                     0   \n",
       "3                          0                      0                     0   \n",
       "4                          0                      0                     0   \n",
       "\n",
       "   departure state_Vermont  departure state_Virginia  \\\n",
       "0                        0                         0   \n",
       "1                        0                         0   \n",
       "2                        0                         0   \n",
       "3                        0                         0   \n",
       "4                        0                         0   \n",
       "\n",
       "   departure state_Washington  departure state_Wisconsin  \\\n",
       "0                           0                          0   \n",
       "1                           0                          0   \n",
       "2                           0                          0   \n",
       "3                           0                          0   \n",
       "4                           0                          0   \n",
       "\n",
       "   departure state_Wyoming  \n",
       "0                        0  \n",
       "1                        0  \n",
       "2                        0  \n",
       "3                        0  \n",
       "4                        0  \n",
       "\n",
       "[5 rows x 78 columns]"
      ]
     },
     "execution_count": 18,
     "metadata": {},
     "output_type": "execute_result"
    }
   ],
   "source": [
    "data.head()"
   ]
  },
  {
   "cell_type": "code",
   "execution_count": 19,
   "metadata": {},
   "outputs": [],
   "source": [
    "y=data['profit']"
   ]
  },
  {
   "cell_type": "code",
   "execution_count": 20,
   "metadata": {},
   "outputs": [],
   "source": [
    "X=data.drop(['profit'],axis=1)"
   ]
  },
  {
   "cell_type": "code",
   "execution_count": 22,
   "metadata": {},
   "outputs": [],
   "source": [
    "from sklearn.model_selection import train_test_split\n",
    "from sklearn.preprocessing import StandardScaler\n",
    "from sklearn.linear_model import LinearRegression , Ridge\n",
    "from sklearn.metrics import accuracy_score"
   ]
  },
  {
   "cell_type": "code",
   "execution_count": 23,
   "metadata": {},
   "outputs": [],
   "source": [
    "X_train,X_test,y_train,y_test=train_test_split(X,y)"
   ]
  },
  {
   "cell_type": "code",
   "execution_count": 24,
   "metadata": {},
   "outputs": [],
   "source": [
    "scaler=StandardScaler()"
   ]
  },
  {
   "cell_type": "code",
   "execution_count": 25,
   "metadata": {},
   "outputs": [],
   "source": [
    "X_train_scaled= scaler.fit_transform(X_train)\n",
    "X_test_scaled = scaler.transform(X_test)"
   ]
  },
  {
   "cell_type": "code",
   "execution_count": 26,
   "metadata": {},
   "outputs": [],
   "source": [
    "ridg= Ridge(alpha=50).fit(X_train_scaled,y_train)"
   ]
  },
  {
   "cell_type": "code",
   "execution_count": 27,
   "metadata": {},
   "outputs": [
    {
     "data": {
      "text/plain": [
       "-0.551809568533963"
      ]
     },
     "execution_count": 27,
     "metadata": {},
     "output_type": "execute_result"
    }
   ],
   "source": [
    "ridg.score(X_test_scaled,y_test)"
   ]
  },
  {
   "cell_type": "code",
   "execution_count": 29,
   "metadata": {},
   "outputs": [],
   "source": [
    "from sklearn.ensemble import RandomForestRegressor"
   ]
  },
  {
   "cell_type": "code",
   "execution_count": 30,
   "metadata": {
    "scrolled": true
   },
   "outputs": [],
   "source": [
    "rm= RandomForestRegressor().fit(X_train_scaled,y_train)"
   ]
  },
  {
   "cell_type": "code",
   "execution_count": 31,
   "metadata": {},
   "outputs": [
    {
     "data": {
      "text/plain": [
       "-0.2482847578948073"
      ]
     },
     "execution_count": 31,
     "metadata": {},
     "output_type": "execute_result"
    }
   ],
   "source": [
    "rm.score(X_test_scaled,y_test)"
   ]
  },
  {
   "cell_type": "code",
   "execution_count": null,
   "metadata": {},
   "outputs": [],
   "source": []
  }
 ],
 "metadata": {
  "kernelspec": {
   "display_name": "Python 3",
   "language": "python",
   "name": "python3"
  },
  "language_info": {
   "codemirror_mode": {
    "name": "ipython",
    "version": 3
   },
   "file_extension": ".py",
   "mimetype": "text/x-python",
   "name": "python",
   "nbconvert_exporter": "python",
   "pygments_lexer": "ipython3",
   "version": "3.6.12"
  }
 },
 "nbformat": 4,
 "nbformat_minor": 4
}
